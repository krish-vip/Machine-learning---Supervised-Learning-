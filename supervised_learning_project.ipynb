{
 "cells": [
  {
   "cell_type": "markdown",
   "metadata": {},
   "source": [
    "# 1. Read the column description and ensure you understand each attribute well "
   ]
  },
  {
   "cell_type": "markdown",
   "metadata": {},
   "source": [
    "#Column Information\n",
    "\n",
    "ID: Customer ID\n",
    "\n",
    "Age: Customer's age in completed years\n",
    "\n",
    "Experience: Number of years of professional experience\n",
    "\n",
    "Income: Annual income of the customer\n",
    "\n",
    "ZIPCode: Home Address ZIP code.\n",
    "\n",
    "Family: Family size of the customer\n",
    "\n",
    "CCAvg: spending on credit cards per month\n",
    "\n",
    "Education: Education Level.\n",
    "1: Undergrad\n",
    "2: Graduate\n",
    "3: Advanced/Professional\n",
    "\n",
    "Mortgage: Mortgage Value of house mortgage if any.\n",
    "\n",
    "PersonalLoan: Did this customer accept the personal loan offered in the last campaign?\n",
    "\n",
    "SecuritiesAccount: Does the customer have a securities account with the bank?\n",
    "\n",
    "CDAccount: Does the customer have a certificate of deposit (CD) account with the bank?\n",
    "\n",
    "Online: Does the customer use internet banking facilities?\n",
    "\n",
    "CreditCard: Does the customer uses a credit card issued by UniversalBank?"
   ]
  },
  {
   "cell_type": "code",
   "execution_count": 1,
   "metadata": {},
   "outputs": [],
   "source": [
    "#importing libraries\n",
    "import pandas as pd\n",
    "import seaborn as sns\n",
    "import matplotlib.pyplot as plt\n",
    "import numpy as np\n",
    "from sklearn.model_selection import train_test_split\n",
    "from sklearn.linear_model import LogisticRegression\n",
    "from sklearn.metrics import confusion_matrix,classification_report,accuracy_score\n",
    "from sklearn.metrics import roc_auc_score\n",
    "from sklearn.metrics import roc_curve\n",
    "from sklearn import metrics\n",
    "from sklearn.metrics import confusion_matrix,classification_report,accuracy_score\n",
    "from sklearn.naive_bayes import GaussianNB\n",
    "from sklearn.neighbors import KNeighborsClassifier"
   ]
  },
  {
   "cell_type": "code",
   "execution_count": 2,
   "metadata": {},
   "outputs": [],
   "source": [
    "#loading data\n",
    "df=pd.read_csv('Bank_Personal_Loan_Modelling.csv')"
   ]
  },
  {
   "cell_type": "code",
   "execution_count": 3,
   "metadata": {},
   "outputs": [
    {
     "data": {
      "text/html": [
       "<div>\n",
       "<style scoped>\n",
       "    .dataframe tbody tr th:only-of-type {\n",
       "        vertical-align: middle;\n",
       "    }\n",
       "\n",
       "    .dataframe tbody tr th {\n",
       "        vertical-align: top;\n",
       "    }\n",
       "\n",
       "    .dataframe thead th {\n",
       "        text-align: right;\n",
       "    }\n",
       "</style>\n",
       "<table border=\"1\" class=\"dataframe\">\n",
       "  <thead>\n",
       "    <tr style=\"text-align: right;\">\n",
       "      <th></th>\n",
       "      <th>ID</th>\n",
       "      <th>Age</th>\n",
       "      <th>Experience</th>\n",
       "      <th>Income</th>\n",
       "      <th>ZIP Code</th>\n",
       "      <th>Family</th>\n",
       "      <th>CCAvg</th>\n",
       "      <th>Education</th>\n",
       "      <th>Mortgage</th>\n",
       "      <th>Personal Loan</th>\n",
       "      <th>Securities Account</th>\n",
       "      <th>CD Account</th>\n",
       "      <th>Online</th>\n",
       "      <th>CreditCard</th>\n",
       "    </tr>\n",
       "  </thead>\n",
       "  <tbody>\n",
       "    <tr>\n",
       "      <td>0</td>\n",
       "      <td>1</td>\n",
       "      <td>25</td>\n",
       "      <td>1</td>\n",
       "      <td>49</td>\n",
       "      <td>91107</td>\n",
       "      <td>4</td>\n",
       "      <td>1.6</td>\n",
       "      <td>1</td>\n",
       "      <td>0</td>\n",
       "      <td>0</td>\n",
       "      <td>1</td>\n",
       "      <td>0</td>\n",
       "      <td>0</td>\n",
       "      <td>0</td>\n",
       "    </tr>\n",
       "    <tr>\n",
       "      <td>1</td>\n",
       "      <td>2</td>\n",
       "      <td>45</td>\n",
       "      <td>19</td>\n",
       "      <td>34</td>\n",
       "      <td>90089</td>\n",
       "      <td>3</td>\n",
       "      <td>1.5</td>\n",
       "      <td>1</td>\n",
       "      <td>0</td>\n",
       "      <td>0</td>\n",
       "      <td>1</td>\n",
       "      <td>0</td>\n",
       "      <td>0</td>\n",
       "      <td>0</td>\n",
       "    </tr>\n",
       "    <tr>\n",
       "      <td>2</td>\n",
       "      <td>3</td>\n",
       "      <td>39</td>\n",
       "      <td>15</td>\n",
       "      <td>11</td>\n",
       "      <td>94720</td>\n",
       "      <td>1</td>\n",
       "      <td>1.0</td>\n",
       "      <td>1</td>\n",
       "      <td>0</td>\n",
       "      <td>0</td>\n",
       "      <td>0</td>\n",
       "      <td>0</td>\n",
       "      <td>0</td>\n",
       "      <td>0</td>\n",
       "    </tr>\n",
       "    <tr>\n",
       "      <td>3</td>\n",
       "      <td>4</td>\n",
       "      <td>35</td>\n",
       "      <td>9</td>\n",
       "      <td>100</td>\n",
       "      <td>94112</td>\n",
       "      <td>1</td>\n",
       "      <td>2.7</td>\n",
       "      <td>2</td>\n",
       "      <td>0</td>\n",
       "      <td>0</td>\n",
       "      <td>0</td>\n",
       "      <td>0</td>\n",
       "      <td>0</td>\n",
       "      <td>0</td>\n",
       "    </tr>\n",
       "    <tr>\n",
       "      <td>4</td>\n",
       "      <td>5</td>\n",
       "      <td>35</td>\n",
       "      <td>8</td>\n",
       "      <td>45</td>\n",
       "      <td>91330</td>\n",
       "      <td>4</td>\n",
       "      <td>1.0</td>\n",
       "      <td>2</td>\n",
       "      <td>0</td>\n",
       "      <td>0</td>\n",
       "      <td>0</td>\n",
       "      <td>0</td>\n",
       "      <td>0</td>\n",
       "      <td>1</td>\n",
       "    </tr>\n",
       "  </tbody>\n",
       "</table>\n",
       "</div>"
      ],
      "text/plain": [
       "   ID  Age  Experience  Income  ZIP Code  Family  CCAvg  Education  Mortgage  \\\n",
       "0   1   25           1      49     91107       4    1.6          1         0   \n",
       "1   2   45          19      34     90089       3    1.5          1         0   \n",
       "2   3   39          15      11     94720       1    1.0          1         0   \n",
       "3   4   35           9     100     94112       1    2.7          2         0   \n",
       "4   5   35           8      45     91330       4    1.0          2         0   \n",
       "\n",
       "   Personal Loan  Securities Account  CD Account  Online  CreditCard  \n",
       "0              0                   1           0       0           0  \n",
       "1              0                   1           0       0           0  \n",
       "2              0                   0           0       0           0  \n",
       "3              0                   0           0       0           0  \n",
       "4              0                   0           0       0           1  "
      ]
     },
     "execution_count": 3,
     "metadata": {},
     "output_type": "execute_result"
    }
   ],
   "source": [
    "#First 5 rows\n",
    "df.head()"
   ]
  },
  {
   "cell_type": "code",
   "execution_count": 4,
   "metadata": {},
   "outputs": [
    {
     "name": "stdout",
     "output_type": "stream",
     "text": [
      "shape of the data frame is = (5000, 14)\n"
     ]
    }
   ],
   "source": [
    "shape=df.shape  #Provides the Shape in (Rows, Columns) in the Data Frame df\n",
    "print('shape of the data frame is =',shape)"
   ]
  },
  {
   "cell_type": "code",
   "execution_count": 5,
   "metadata": {},
   "outputs": [
    {
     "data": {
      "text/plain": [
       "Index(['ID', 'Age', 'Experience', 'Income', 'ZIP Code', 'Family', 'CCAvg',\n",
       "       'Education', 'Mortgage', 'Personal Loan', 'Securities Account',\n",
       "       'CD Account', 'Online', 'CreditCard'],\n",
       "      dtype='object')"
      ]
     },
     "execution_count": 5,
     "metadata": {},
     "output_type": "execute_result"
    }
   ],
   "source": [
    "#Column names\n",
    "df.columns"
   ]
  },
  {
   "cell_type": "markdown",
   "metadata": {},
   "source": [
    "# 2. Study the data distribution in each attribute, share your findings"
   ]
  },
  {
   "cell_type": "code",
   "execution_count": 6,
   "metadata": {},
   "outputs": [
    {
     "name": "stdout",
     "output_type": "stream",
     "text": [
      "<class 'pandas.core.frame.DataFrame'>\n",
      "RangeIndex: 5000 entries, 0 to 4999\n",
      "Data columns (total 14 columns):\n",
      "ID                    5000 non-null int64\n",
      "Age                   5000 non-null int64\n",
      "Experience            5000 non-null int64\n",
      "Income                5000 non-null int64\n",
      "ZIP Code              5000 non-null int64\n",
      "Family                5000 non-null int64\n",
      "CCAvg                 5000 non-null float64\n",
      "Education             5000 non-null int64\n",
      "Mortgage              5000 non-null int64\n",
      "Personal Loan         5000 non-null int64\n",
      "Securities Account    5000 non-null int64\n",
      "CD Account            5000 non-null int64\n",
      "Online                5000 non-null int64\n",
      "CreditCard            5000 non-null int64\n",
      "dtypes: float64(1), int64(13)\n",
      "memory usage: 547.0 KB\n"
     ]
    }
   ],
   "source": [
    "#dataframe information\n",
    "df.info()"
   ]
  },
  {
   "cell_type": "code",
   "execution_count": 7,
   "metadata": {},
   "outputs": [],
   "source": [
    "#Converting the Data type for the Categorical attributes from Int to Category data type\n",
    "df = df.astype({\"ID\":'category',\"ZIP Code\":'category',\"Family\":'category',\n",
    "              \"Education\":'category',\"Personal Loan\":'category',\"Securities Account\":'category',\n",
    "            \"CD Account\":'category',\"Online\":'category',\"CreditCard\":'category'}) "
   ]
  },
  {
   "cell_type": "code",
   "execution_count": 8,
   "metadata": {},
   "outputs": [
    {
     "name": "stdout",
     "output_type": "stream",
     "text": [
      "Data type of each attribute of Data frame:\n",
      "\n",
      "Data Type of ID attribute is: category\n",
      "Data Type of Age attribute is: int64\n",
      "Data Type of Experience attribute is: int64\n",
      "Data Type of Income attribute is: int64\n",
      "Data Type of ZIP Code attribute is: category\n",
      "Data Type of Family attribute is: category\n",
      "Data Type of CCAvg attribute is: float64\n",
      "Data Type of Education attribute is: category\n",
      "Data Type of Mortgage attribute is: int64\n",
      "Data Type of Personal Loan attribute is: category\n",
      "Data Type of Securities Account attribute is: category\n",
      "Data Type of CD Account attribute is: category\n",
      "Data Type of Online attribute is: category\n",
      "Data Type of CreditCard attribute is: category\n"
     ]
    }
   ],
   "source": [
    "i = 0\n",
    "#Length of the coulmns of the data fram\n",
    "n=len(df.columns)\n",
    "#List of all the attribues in the data frame \n",
    "List=list(df.columns.values)\n",
    "print('Data type of each attribute of Data frame:\\n')\n",
    "while i < n:     \n",
    "    New_List=List[i]\n",
    "    Data_type=df[New_List].dtype\n",
    "    print('Data Type of',New_List,'attribute is:',Data_type)\n",
    "    i=i+1"
   ]
  },
  {
   "cell_type": "code",
   "execution_count": 9,
   "metadata": {},
   "outputs": [
    {
     "name": "stdout",
     "output_type": "stream",
     "text": [
      "Checking the presence of missing values in the Data frame:\n",
      "\n",
      "There are 0 null values in ID attribute in the dataframe\n",
      "There are 0 null values in Age attribute in the dataframe\n",
      "There are 0 null values in Experience attribute in the dataframe\n",
      "There are 0 null values in Income attribute in the dataframe\n",
      "There are 0 null values in ZIP Code attribute in the dataframe\n",
      "There are 0 null values in Family attribute in the dataframe\n",
      "There are 0 null values in CCAvg attribute in the dataframe\n",
      "There are 0 null values in Education attribute in the dataframe\n",
      "There are 0 null values in Mortgage attribute in the dataframe\n",
      "There are 0 null values in Personal Loan attribute in the dataframe\n",
      "There are 0 null values in Securities Account attribute in the dataframe\n",
      "There are 0 null values in CD Account attribute in the dataframe\n",
      "There are 0 null values in Online attribute in the dataframe\n",
      "There are 0 null values in CreditCard attribute in the dataframe\n"
     ]
    }
   ],
   "source": [
    "print('Checking the presence of missing values in the Data frame:\\n')\n",
    "null_value_count = df.isnull().sum() \n",
    "\n",
    "i = 0\n",
    "\n",
    "#Length of the coulmns of the data fram\n",
    "n=len(df.columns)\n",
    "\n",
    "#List of all the attribues in the data frame \n",
    "List=list(df.columns.values)\n",
    "\n",
    "while i < n:   \n",
    "    New_List=List[i]\n",
    "    print('There are',null_value_count[i],'null values in',New_List,'attribute in the dataframe')\n",
    "\n",
    "    i=i+1"
   ]
  },
  {
   "cell_type": "code",
   "execution_count": 10,
   "metadata": {},
   "outputs": [
    {
     "data": {
      "text/html": [
       "<div>\n",
       "<style scoped>\n",
       "    .dataframe tbody tr th:only-of-type {\n",
       "        vertical-align: middle;\n",
       "    }\n",
       "\n",
       "    .dataframe tbody tr th {\n",
       "        vertical-align: top;\n",
       "    }\n",
       "\n",
       "    .dataframe thead th {\n",
       "        text-align: right;\n",
       "    }\n",
       "</style>\n",
       "<table border=\"1\" class=\"dataframe\">\n",
       "  <thead>\n",
       "    <tr style=\"text-align: right;\">\n",
       "      <th></th>\n",
       "      <th>count</th>\n",
       "      <th>mean</th>\n",
       "      <th>std</th>\n",
       "      <th>min</th>\n",
       "      <th>25%</th>\n",
       "      <th>50%</th>\n",
       "      <th>75%</th>\n",
       "      <th>max</th>\n",
       "    </tr>\n",
       "  </thead>\n",
       "  <tbody>\n",
       "    <tr>\n",
       "      <td>Age</td>\n",
       "      <td>5000.0</td>\n",
       "      <td>45.338400</td>\n",
       "      <td>11.463166</td>\n",
       "      <td>23.0</td>\n",
       "      <td>35.0</td>\n",
       "      <td>45.0</td>\n",
       "      <td>55.0</td>\n",
       "      <td>67.0</td>\n",
       "    </tr>\n",
       "    <tr>\n",
       "      <td>Experience</td>\n",
       "      <td>5000.0</td>\n",
       "      <td>20.104600</td>\n",
       "      <td>11.467954</td>\n",
       "      <td>-3.0</td>\n",
       "      <td>10.0</td>\n",
       "      <td>20.0</td>\n",
       "      <td>30.0</td>\n",
       "      <td>43.0</td>\n",
       "    </tr>\n",
       "    <tr>\n",
       "      <td>Income</td>\n",
       "      <td>5000.0</td>\n",
       "      <td>73.774200</td>\n",
       "      <td>46.033729</td>\n",
       "      <td>8.0</td>\n",
       "      <td>39.0</td>\n",
       "      <td>64.0</td>\n",
       "      <td>98.0</td>\n",
       "      <td>224.0</td>\n",
       "    </tr>\n",
       "    <tr>\n",
       "      <td>CCAvg</td>\n",
       "      <td>5000.0</td>\n",
       "      <td>1.937938</td>\n",
       "      <td>1.747659</td>\n",
       "      <td>0.0</td>\n",
       "      <td>0.7</td>\n",
       "      <td>1.5</td>\n",
       "      <td>2.5</td>\n",
       "      <td>10.0</td>\n",
       "    </tr>\n",
       "    <tr>\n",
       "      <td>Mortgage</td>\n",
       "      <td>5000.0</td>\n",
       "      <td>56.498800</td>\n",
       "      <td>101.713802</td>\n",
       "      <td>0.0</td>\n",
       "      <td>0.0</td>\n",
       "      <td>0.0</td>\n",
       "      <td>101.0</td>\n",
       "      <td>635.0</td>\n",
       "    </tr>\n",
       "  </tbody>\n",
       "</table>\n",
       "</div>"
      ],
      "text/plain": [
       "             count       mean         std   min   25%   50%    75%    max\n",
       "Age         5000.0  45.338400   11.463166  23.0  35.0  45.0   55.0   67.0\n",
       "Experience  5000.0  20.104600   11.467954  -3.0  10.0  20.0   30.0   43.0\n",
       "Income      5000.0  73.774200   46.033729   8.0  39.0  64.0   98.0  224.0\n",
       "CCAvg       5000.0   1.937938    1.747659   0.0   0.7   1.5    2.5   10.0\n",
       "Mortgage    5000.0  56.498800  101.713802   0.0   0.0   0.0  101.0  635.0"
      ]
     },
     "execution_count": 10,
     "metadata": {},
     "output_type": "execute_result"
    }
   ],
   "source": [
    "#Stats of the dataframe\n",
    "df.describe().T"
   ]
  },
  {
   "cell_type": "markdown",
   "metadata": {},
   "source": [
    "Minimum value of Experience is -3, As experience value can't be negative, we will find the number of values data which has negative experience and will replace it using the median value for the respective age and education level from the remaining data which has the positive experience value"
   ]
  },
  {
   "cell_type": "code",
   "execution_count": 11,
   "metadata": {},
   "outputs": [
    {
     "data": {
      "text/plain": [
       "52"
      ]
     },
     "execution_count": 11,
     "metadata": {},
     "output_type": "execute_result"
    }
   ],
   "source": [
    "#Number of Negative values in Experience\n",
    "df[df['Experience']<0]['Experience'].count() "
   ]
  },
  {
   "cell_type": "code",
   "execution_count": 12,
   "metadata": {},
   "outputs": [
    {
     "data": {
      "text/plain": [
       "False    4948\n",
       "True       52\n",
       "Name: Experience, dtype: int64"
      ]
     },
     "execution_count": 12,
     "metadata": {},
     "output_type": "execute_result"
    }
   ],
   "source": [
    "#clean the negative variable\n",
    "dfExp = df.loc[df['Experience'] >=0]\n",
    "negExp = df.Experience < 0\n",
    "column_name = 'Experience'\n",
    "mylist = df.loc[negExp]['ID'].tolist() # getting the customer ID who has negative experience\n",
    "\n",
    "# there are 52 records with negative experience\n",
    "negExp.value_counts()"
   ]
  },
  {
   "cell_type": "code",
   "execution_count": 13,
   "metadata": {},
   "outputs": [
    {
     "name": "stdout",
     "output_type": "stream",
     "text": [
      "Age: 25 Exp: 0.0\n",
      "Age: 24 Exp: 0.0\n",
      "Age: 24 Exp: 0.0\n",
      "Age: 28 Exp: 3.0\n",
      "Age: 24 Exp: 0.0\n",
      "Age: 25 Exp: 0.0\n",
      "Age: 25 Exp: 0.0\n",
      "Age: 25 Exp: 0.0\n",
      "Age: 24 Exp: 0.0\n",
      "Age: 24 Exp: 0.0\n",
      "Age: 25 Exp: 0.0\n",
      "Age: 23 Exp: nan\n",
      "Age: 24 Exp: 0.0\n",
      "Age: 24 Exp: 0.0\n",
      "Age: 24 Exp: 0.0\n",
      "Age: 23 Exp: nan\n",
      "Age: 24 Exp: 0.0\n",
      "Age: 25 Exp: 1.0\n",
      "Age: 25 Exp: 0.0\n",
      "Age: 25 Exp: 1.0\n",
      "Age: 25 Exp: 0.0\n",
      "Age: 23 Exp: nan\n",
      "Age: 24 Exp: 0.0\n",
      "Age: 25 Exp: 0.0\n",
      "Age: 23 Exp: nan\n",
      "Age: 23 Exp: nan\n",
      "Age: 24 Exp: 0.0\n",
      "Age: 24 Exp: 0.0\n",
      "Age: 23 Exp: nan\n",
      "Age: 25 Exp: 0.0\n",
      "Age: 29 Exp: 3.0\n",
      "Age: 23 Exp: nan\n",
      "Age: 23 Exp: nan\n",
      "Age: 26 Exp: 1.0\n",
      "Age: 25 Exp: 0.0\n",
      "Age: 25 Exp: 1.0\n",
      "Age: 25 Exp: 0.0\n",
      "Age: 23 Exp: nan\n",
      "Age: 24 Exp: 0.0\n",
      "Age: 24 Exp: 0.0\n",
      "Age: 23 Exp: nan\n",
      "Age: 24 Exp: 0.0\n",
      "Age: 25 Exp: 0.0\n",
      "Age: 25 Exp: 1.0\n",
      "Age: 29 Exp: 3.0\n",
      "Age: 24 Exp: 0.0\n",
      "Age: 23 Exp: nan\n",
      "Age: 23 Exp: nan\n",
      "Age: 25 Exp: 0.0\n",
      "Age: 24 Exp: 0.0\n",
      "Age: 25 Exp: 0.0\n",
      "Age: 29 Exp: 3.0\n"
     ]
    }
   ],
   "source": [
    "## Before replacing the Negative Experience we will check what median values we get from the below model\n",
    "for id in mylist:\n",
    "    age = df.loc[np.where(df['ID']==id)][\"Age\"].tolist()[0]\n",
    "    education = df.loc[np.where(df['ID']==id)][\"Education\"].tolist()[0]\n",
    "    df_filtered = dfExp[(dfExp.Age == age) & (dfExp.Education == education)]\n",
    "    exp = df_filtered['Experience'].median()\n",
    "    ##df.loc[df.loc[np.where(df['ID']==id)].index, 'Experience'] = exp \n",
    "    print('Age:',age,'Exp:',exp)       "
   ]
  },
  {
   "cell_type": "markdown",
   "metadata": {},
   "source": [
    "Observation: \n",
    "We can't able to predict the value of the experince for the Age='23', as there are no positive values of experience available for the age 23 in the data frame df.\n",
    "\n",
    "using the absolute value or replacing Nan value will be a Bias for the Model.\n",
    "\n",
    "As the number of negative experience value is only 52 out of 5000, we can drop these data from the data frame."
   ]
  },
  {
   "cell_type": "markdown",
   "metadata": {},
   "source": [
    "# Univariate Analysis"
   ]
  },
  {
   "cell_type": "code",
   "execution_count": 14,
   "metadata": {},
   "outputs": [
    {
     "data": {
      "image/png": "[encoded data removed]",
      "text/plain": [
       "<Figure size 1440x1080 with 5 Axes>"
      ]
     },
     "metadata": {
      "needs_background": "light"
     },
     "output_type": "display_data"
    }
   ],
   "source": [
    "# Histogram Plot of Quantitative Data\n",
    "plt.figure(figsize= (20,15))\n",
    "\n",
    "plt.subplot(2,3,1)\n",
    "plt.hist(df['Age'],edgecolor = 'black')\n",
    "plt.xlabel('Age')\n",
    "\n",
    "plt.subplot(2,3,2)\n",
    "plt.hist(df['Experience'],edgecolor = 'black')\n",
    "plt.xlabel('Experience')\n",
    "\n",
    "plt.subplot(2,3,3)\n",
    "plt.hist(df['Income'],edgecolor = 'black')\n",
    "plt.xlabel('Income')\n",
    "\n",
    "plt.subplot(2,3,4)\n",
    "plt.hist(df['CCAvg'],edgecolor = 'black')\n",
    "plt.xlabel('CCAvg')\n",
    "\n",
    "plt.subplot(2,3,5)\n",
    "plt.hist(df['Mortgage'],edgecolor = 'black')\n",
    "plt.xlabel('Mortgage')\n",
    "\n",
    "plt.show() "
   ]
  },
  {
   "cell_type": "markdown",
   "metadata": {},
   "source": [
    "Observation:\n",
    "\n",
    "Mortgage and income are positively skewed               \n",
    "Experience is evenly distributed"
   ]
  },
  {
   "cell_type": "code",
   "execution_count": 15,
   "metadata": {},
   "outputs": [
    {
     "data": {
      "image/png": "[encoded data removed]",
      "text/plain": [
       "<Figure size 1440x1080 with 5 Axes>"
      ]
     },
     "metadata": {
      "needs_background": "light"
     },
     "output_type": "display_data"
    }
   ],
   "source": [
    "plt.figure(figsize= (20,15))\n",
    "\n",
    "plt.subplot(2,3,1)\n",
    "sns.distplot(df['Age'])\n",
    "plt.xlabel('Age')\n",
    "\n",
    "plt.subplot(2,3,2)\n",
    "sns.distplot(df['Experience'])\n",
    "plt.xlabel('Experience')\n",
    "\n",
    "plt.subplot(2,3,3)\n",
    "sns.distplot(df['Income'])\n",
    "plt.xlabel('Income')\n",
    "\n",
    "plt.subplot(2,3,4)\n",
    "sns.distplot(df['CCAvg'])\n",
    "plt.xlabel('CCAvg')\n",
    "\n",
    "plt.subplot(2,3,5)\n",
    "sns.distplot(df['Mortgage'])\n",
    "plt.xlabel('Mortgage')\n",
    "\n",
    "plt.show() "
   ]
  },
  {
   "cell_type": "code",
   "execution_count": 16,
   "metadata": {},
   "outputs": [
    {
     "name": "stdout",
     "output_type": "stream",
     "text": [
      "Measure of skewness of Quantitative Data\n",
      "Skewness of Age is: -0.029 and Data is Left-Skewed\n",
      "Skewness of Experience is: -0.026 and Data is Left-Skewed\n",
      "Skewness of CCAvg is: 1.598 and Data is Right-Skewed\n",
      "Skewness of Mortgage is: 2.104 and Data is Right-Skewed\n",
      "Skewness of Income is: 0.841 and Data is Right-Skewed\n"
     ]
    }
   ],
   "source": [
    "print('Measure of skewness of Quantitative Data')\n",
    "i = 0\n",
    "List=['Age','Experience','CCAvg','Mortgage','Income']\n",
    "n=len(List)\n",
    "while i < n:   \n",
    "    New_List=List[i]\n",
    "    skew=df[New_List].skew(axis = 0, skipna = True)\n",
    "    if (skew==0):\n",
    "        conclusion='Data is normally distributed or Symmetric'\n",
    "    elif(skew<0):\n",
    "        conclusion='Data is Left-Skewed'\n",
    "    else:\n",
    "        conclusion='Data is Right-Skewed'     \n",
    "    print('Skewness of',New_List,'is: %.3f'%skew,'and',conclusion)\n",
    "    i=i+1"
   ]
  },
  {
   "cell_type": "code",
   "execution_count": 17,
   "metadata": {},
   "outputs": [
    {
     "name": "stdout",
     "output_type": "stream",
     "text": [
      "Checking the presence of outliers of Quantitative Data\n",
      "There is no outlier for the attribute Age\n",
      "There is no outlier for the attribute Experience\n",
      "Identified outliers for CCAvg out of 5000 records: 324\n",
      "Identified outliers for Mortgage out of 5000 records: 291\n",
      "Identified outliers for Income out of 5000 records: 96\n"
     ]
    }
   ],
   "source": [
    "print('Checking the presence of outliers of Quantitative Data')\n",
    "i = 0\n",
    "List=['Age','Experience','CCAvg','Mortgage','Income']\n",
    "n=len(List)\n",
    "while i < n:   \n",
    "    New_List=List[i]\n",
    "    minimum,q1,q3,maximum= np.percentile(df[New_List],[0,25,75,100])\n",
    "    iqr=q3-q1\n",
    "    lower_value=q1-(1.5 * iqr)\n",
    "    upper_value=q3+(1.5 * iqr)\n",
    "    if ((minimum<lower_value) or (maximum>upper_value)):\n",
    "        outliers = [x for x in df[New_List] if x < lower_value or x > upper_value]\n",
    "        print('Identified outliers for',New_List,'out of', len(df[New_List]),'records: %d' % len(outliers))\n",
    "    else:\n",
    "        print('There is no outlier for the attribute',New_List)        \n",
    "    i=i+1 "
   ]
  },
  {
   "cell_type": "code",
   "execution_count": 18,
   "metadata": {},
   "outputs": [
    {
     "data": {
      "image/png": "[encoded data removed]",
      "text/plain": [
       "<Figure size 1080x720 with 5 Axes>"
      ]
     },
     "metadata": {
      "needs_background": "light"
     },
     "output_type": "display_data"
    }
   ],
   "source": [
    "#Checking for the outliers using boxplot\n",
    "plt.figure(figsize= (15,10))\n",
    "plt.subplot(3,2,1)\n",
    "sns.boxplot(x=df.Age)\n",
    "plt.subplot(3,2,2)\n",
    "sns.boxplot(x= df.Experience)\n",
    "plt.subplot(3,2,3)\n",
    "sns.boxplot(x= df.CCAvg)\n",
    "plt.subplot(3,2,4)\n",
    "sns.boxplot(x= df.Mortgage)\n",
    "plt.subplot(3,2,5)\n",
    "sns.boxplot(x= df.Income)\n",
    "plt.show()"
   ]
  },
  {
   "cell_type": "code",
   "execution_count": 19,
   "metadata": {},
   "outputs": [
    {
     "data": {
      "image/png": "[encoded data removed]",
      "text/plain": [
       "<Figure size 1080x1080 with 6 Axes>"
      ]
     },
     "metadata": {
      "needs_background": "light"
     },
     "output_type": "display_data"
    }
   ],
   "source": [
    "#Distribution of categorical attribute using stripplot\n",
    "\n",
    "plt.figure(figsize= (15,15))\n",
    "\n",
    "plt.subplot(3,2,1)\n",
    "sns.stripplot(df['Family'])\n",
    "\n",
    "plt.subplot(3,2,2)\n",
    "sns.stripplot(df['Education'])\n",
    "\n",
    "plt.subplot(3,2,3)\n",
    "sns.stripplot(df['Securities Account'])\n",
    "\n",
    "plt.subplot(3,2,4)\n",
    "sns.stripplot(df['CD Account'])\n",
    "\n",
    "plt.subplot(3,2,5)\n",
    "sns.stripplot(df['Online'])\n",
    "\n",
    "plt.subplot(3,2,6)\n",
    "sns.stripplot(df['CreditCard'])\n",
    "\n",
    "plt.show()"
   ]
  },
  {
   "cell_type": "markdown",
   "metadata": {},
   "source": [
    "From the above stripplot() visualisation for individual categorical attributes we are unable to predict much insights.\n",
    "so we use box-plot/one-way table for further analysis"
   ]
  },
  {
   "cell_type": "code",
   "execution_count": 20,
   "metadata": {},
   "outputs": [
    {
     "data": {
      "image/png": "[encoded data removed]",
      "text/plain": [
       "<Figure size 432x288 with 1 Axes>"
      ]
     },
     "metadata": {
      "needs_background": "light"
     },
     "output_type": "display_data"
    }
   ],
   "source": [
    "my_tab = pd.crosstab(index = df['Family'],columns=\"count\")  \n",
    "my_tab.plot.bar()\n",
    "plt.show()"
   ]
  },
  {
   "cell_type": "code",
   "execution_count": 21,
   "metadata": {},
   "outputs": [
    {
     "data": {
      "image/png": "[encoded data removed]",
      "text/plain": [
       "<Figure size 432x288 with 1 Axes>"
      ]
     },
     "metadata": {
      "needs_background": "light"
     },
     "output_type": "display_data"
    }
   ],
   "source": [
    "my_tab = pd.crosstab(index = df['Education'],columns=\"count\")  \n",
    "my_tab.plot.bar()\n",
    "plt.show()"
   ]
  },
  {
   "cell_type": "code",
   "execution_count": 22,
   "metadata": {},
   "outputs": [
    {
     "data": {
      "image/png": "[encoded data removed]",
      "text/plain": [
       "<Figure size 432x288 with 1 Axes>"
      ]
     },
     "metadata": {
      "needs_background": "light"
     },
     "output_type": "display_data"
    }
   ],
   "source": [
    "my_tab = pd.crosstab(index = df['Securities Account'],columns=\"count\")  \n",
    "my_tab.plot.bar()\n",
    "plt.show()"
   ]
  },
  {
   "cell_type": "code",
   "execution_count": 23,
   "metadata": {},
   "outputs": [
    {
     "data": {
      "image/png": "[encoded data removed]",
      "text/plain": [
       "<Figure size 432x288 with 1 Axes>"
      ]
     },
     "metadata": {
      "needs_background": "light"
     },
     "output_type": "display_data"
    }
   ],
   "source": [
    "my_tab = pd.crosstab(index = df['CD Account'],columns=\"count\")  \n",
    "my_tab.plot.bar()\n",
    "plt.show()"
   ]
  },
  {
   "cell_type": "code",
   "execution_count": 24,
   "metadata": {},
   "outputs": [
    {
     "data": {
      "image/png": "[encoded data removed]",
      "text/plain": [
       "<Figure size 432x288 with 1 Axes>"
      ]
     },
     "metadata": {
      "needs_background": "light"
     },
     "output_type": "display_data"
    }
   ],
   "source": [
    "my_tab = pd.crosstab(index = df['Online'],columns=\"count\")  \n",
    "my_tab.plot.bar()\n",
    "plt.show()"
   ]
  },
  {
   "cell_type": "code",
   "execution_count": 25,
   "metadata": {},
   "outputs": [
    {
     "data": {
      "image/png": "[encoded data removed]",
      "text/plain": [
       "<Figure size 432x288 with 1 Axes>"
      ]
     },
     "metadata": {
      "needs_background": "light"
     },
     "output_type": "display_data"
    }
   ],
   "source": [
    "my_tab = pd.crosstab(index = df['CreditCard'],columns=\"count\")  \n",
    "my_tab.plot.bar()\n",
    "plt.show()"
   ]
  },
  {
   "cell_type": "markdown",
   "metadata": {},
   "source": [
    "Observations:\n",
    "\n",
    "    Online: Comparatively More number number of people are using internet banking facility \n",
    "    Credit Card: Comparatively less number of people are using Credit card issued from the universal Bank\n",
    "    Security Account: Very less people are having security account with the bank\n",
    "    CD Account: Very less number of people are having COD account with the bank   \n",
    "        "
   ]
  },
  {
   "cell_type": "markdown",
   "metadata": {},
   "source": [
    "Feature correlation analysis"
   ]
  },
  {
   "cell_type": "code",
   "execution_count": 26,
   "metadata": {},
   "outputs": [
    {
     "name": "stdout",
     "output_type": "stream",
     "text": [
      "                 Age  Experience    Income     CCAvg  Mortgage\n",
      "Age         1.000000    0.994215 -0.055269 -0.052012 -0.012539\n",
      "Experience  0.994215    1.000000 -0.046574 -0.050077 -0.010582\n",
      "Income     -0.055269   -0.046574  1.000000  0.645984  0.206806\n",
      "CCAvg      -0.052012   -0.050077  0.645984  1.000000  0.109905\n",
      "Mortgage   -0.012539   -0.010582  0.206806  0.109905  1.000000\n"
     ]
    },
    {
     "data": {
      "text/plain": [
       "<matplotlib.axes._subplots.AxesSubplot at 0x245aba731c8>"
      ]
     },
     "execution_count": 26,
     "metadata": {},
     "output_type": "execute_result"
    },
    {
     "data": {
      "image/png": "[encoded data removed]",
      "text/plain": [
       "<Figure size 936x504 with 2 Axes>"
      ]
     },
     "metadata": {
      "needs_background": "light"
     },
     "output_type": "display_data"
    }
   ],
   "source": [
    "corr = df.corr()\n",
    "print(corr)\n",
    "mask = np.zeros_like(corr)\n",
    "mask[np.triu_indices_from(mask, 1)] = True\n",
    "\n",
    "plt.figure(figsize=(13,7))\n",
    "sns.heatmap(corr, mask=mask,annot=True,square=True,fmt='.2f')\n",
    "#sns.heatmap(corr,annot=True,square=True"
   ]
  },
  {
   "cell_type": "markdown",
   "metadata": {},
   "source": [
    "Observation :\n",
    "\n",
    "Income and CCAvg is moderately correlated.            \n",
    "Age and Experience is highly correlated (We can drop age or experience attribute from the data frame as its highly correlated)            \n",
    "Income, CCAvg have positive association with Personal Loan"
   ]
  },
  {
   "cell_type": "markdown",
   "metadata": {},
   "source": [
    "# Multivariate analysis"
   ]
  },
  {
   "cell_type": "code",
   "execution_count": 27,
   "metadata": {},
   "outputs": [],
   "source": [
    "# Pairplot\n",
    "#sns.pairplot(df)"
   ]
  },
  {
   "cell_type": "markdown",
   "metadata": {},
   "source": [
    "Observations from Distribution Analysis:\n",
    "\n",
    "Age feature is normally distributed with majority of customers falling between 30 years and 60 years of age.                    We can confirm this by looking at the describe statement above, which shows mean is almost equal to median                     \n",
    "Experience is normally distributed with more customer having experience starting from 8 years. Here the mean is equal to  median.                   \n",
    "Income is positively skewed. Majority of the customers have income between 45K and 55K. We can confirm this by saying the mean is greater than the median                    \n",
    "CCAvg is also a positively skewed variable and average spending is between 0K to 10K and majority spends less than 2.5K    \n",
    "Mortgage 70% of the individuals have a mortgage of less than 40K. However the max value is 635K\n",
    "The variables family and education are ordinal variables. The distribution of families is evenly distributed"
   ]
  },
  {
   "cell_type": "markdown",
   "metadata": {},
   "source": [
    "# 3. Get the target column distribution. Your comments"
   ]
  },
  {
   "cell_type": "code",
   "execution_count": 28,
   "metadata": {},
   "outputs": [
    {
     "data": {
      "image/png": "[encoded data removed]",
      "text/plain": [
       "<Figure size 432x288 with 1 Axes>"
      ]
     },
     "metadata": {},
     "output_type": "display_data"
    }
   ],
   "source": [
    "# Pie chart distribution for Target variable 'Personal Loan'\n",
    "labels = [0,1]\n",
    "sizes=df['Personal Loan'].value_counts()\n",
    "explode = (0, 0.1)  # only \"explode\" the 2nd slice\n",
    "\n",
    "fig1, ax1 = plt.subplots()\n",
    "ax1.pie(sizes, explode=explode, labels=labels, autopct='%1.1f%%',\n",
    "        shadow=True, startangle=90)\n",
    "ax1.axis('equal')  # Equal aspect ratio ensures that pie is drawn as a circle.\n",
    "plt.title(\"Personal Loan Percentage\")\n",
    "plt.show()"
   ]
  },
  {
   "cell_type": "code",
   "execution_count": 29,
   "metadata": {},
   "outputs": [
    {
     "data": {
      "image/png": "[encoded data removed]",
      "text/plain": [
       "<Figure size 432x288 with 1 Axes>"
      ]
     },
     "metadata": {
      "needs_background": "light"
     },
     "output_type": "display_data"
    }
   ],
   "source": [
    "my_tab = pd.crosstab(index = df['Personal Loan'],columns=\"count\")  \n",
    "my_tab.plot.bar()\n",
    "plt.show()"
   ]
  },
  {
   "cell_type": "code",
   "execution_count": 30,
   "metadata": {},
   "outputs": [
    {
     "data": {
      "image/png": "[encoded data removed]",
      "text/plain": [
       "<Figure size 1440x1080 with 5 Axes>"
      ]
     },
     "metadata": {
      "needs_background": "light"
     },
     "output_type": "display_data"
    }
   ],
   "source": [
    "#Distribution of Quantitaive data vs Personal Loan\n",
    "plt.figure(figsize= (20,15))\n",
    "\n",
    "plt.subplot(2,3,1)\n",
    "sns.stripplot(df['Personal Loan'],df['Age'])\n",
    "\n",
    "plt.subplot(2,3,2)\n",
    "sns.stripplot(df['Personal Loan'],df['Experience'])\n",
    "\n",
    "plt.subplot(2,3,3)\n",
    "sns.stripplot(df['Personal Loan'],df['Income'])\n",
    "\n",
    "plt.subplot(2,3,4)\n",
    "sns.stripplot(df['Personal Loan'],df['CCAvg'])\n",
    "\n",
    "plt.subplot(2,3,5)\n",
    "sns.stripplot(df['Personal Loan'],df['Mortgage'])\n",
    "\n",
    "plt.show() "
   ]
  },
  {
   "cell_type": "code",
   "execution_count": 31,
   "metadata": {},
   "outputs": [
    {
     "data": {
      "text/plain": [
       "Text(0.5, 1.0, 'Mortgage Distribution')"
      ]
     },
     "execution_count": 31,
     "metadata": {},
     "output_type": "execute_result"
    },
    {
     "data": {
      "image/png": "[encoded data removed]",
      "text/plain": [
       "<Figure size 1440x432 with 2 Axes>"
      ]
     },
     "metadata": {
      "needs_background": "light"
     },
     "output_type": "display_data"
    },
    {
     "data": {
      "image/png": "[encoded data removed]",
      "text/plain": [
       "<Figure size 1440x432 with 2 Axes>"
      ]
     },
     "metadata": {
      "needs_background": "light"
     },
     "output_type": "display_data"
    }
   ],
   "source": [
    "# Income Distribution Against Personal Loan\n",
    "plt.figure(figsize=(20,6))\n",
    "plt.subplot(1, 2, 1)\n",
    "sns.distplot(df[df[\"Personal Loan\"] == 0]['Income'], color = 'r',label='Personal Loan=0',kde=False)\n",
    "sns.distplot(df[df[\"Personal Loan\"] == 1]['Income'], color = 'b',label='Personal Loan=1',kde=False)\n",
    "plt.legend()\n",
    "plt.title(\"Income Distribution\")\n",
    "\n",
    "## CCAvg Distribution against Personal Loan\n",
    "plt.subplot(1, 2, 2)\n",
    "sns.distplot(df[df[\"Personal Loan\"] == 0]['CCAvg'], color = 'r',label='Personal Loan=0',kde=False)\n",
    "sns.distplot(df[df[\"Personal Loan\"] == 1]['CCAvg'], color = 'b',label='Personal Loan=1',kde=False)\n",
    "plt.legend()\n",
    "plt.title(\"CCAvg Distribution\")\n",
    "\n",
    "# Age Distribution against Personal Loan\n",
    "plt.figure(figsize=(20,6))\n",
    "plt.subplot(1, 2, 1)\n",
    "sns.distplot(df[df[\"Personal Loan\"] == 0]['Age'], color = 'r',label='Personal Loan=0',kde=False)\n",
    "sns.distplot(df[df[\"Personal Loan\"] == 1]['Age'], color = 'b',label='Personal Loan=1',kde=False)\n",
    "plt.legend()\n",
    "plt.title(\"Age Distribution\")\n",
    "\n",
    "# Mortgage Distribution against Personal Loan\n",
    "plt.subplot(1, 2, 2)\n",
    "sns.distplot(df[df[\"Personal Loan\"] == 0]['Mortgage'], color = 'r',label='Personal Loan=0',kde=False)\n",
    "sns.distplot(df[df[\"Personal Loan\"] == 1]['Mortgage'], color = 'b',label='Personal Loan=1',kde=False)\n",
    "plt.legend()\n",
    "plt.title(\"Mortgage Distribution\")"
   ]
  },
  {
   "cell_type": "code",
   "execution_count": 32,
   "metadata": {
    "scrolled": true
   },
   "outputs": [
    {
     "name": "stdout",
     "output_type": "stream",
     "text": [
      "Income of Non-Loan customers:  59000.0\n",
      "Income of Loan customers    :  142500.0\n",
      "\n",
      "\n",
      "Credit card spending of Non-Loan customers:  1400.0\n",
      "Credit card spending of Loan customers    :  3800.0\n",
      "\n",
      "\n",
      "Age of Non-Loan customers:  45.0\n",
      "Age of Loan customers    :  45.0\n",
      "\n",
      "\n",
      "Mortgage of Non-Loan customers:  51789.38053097345\n",
      "Mortgage of Loan customers    :  100845.83333333333\n"
     ]
    }
   ],
   "source": [
    "print('Income of Non-Loan customers: ',\n",
    "      df[df[\"Personal Loan\"] == 0]['Income'].median()*1000) #(multiply income by 1000 since its been mentioned in the data as $000)\n",
    "print('Income of Loan customers    : ', \n",
    "      df[df[\"Personal Loan\"] == 1]['Income'].median()*1000) #(multiply income by 1000 since its been mentioned in the data as $000)\n",
    "print('\\n')\n",
    "print('Credit card spending of Non-Loan customers: ',\n",
    "      df[df[\"Personal Loan\"] == 0]['CCAvg'].median()*1000) #(multiply CCAvg by 1000 since its been mentioned in the data as $000)\n",
    "print('Credit card spending of Loan customers    : ', \n",
    "      df[df[\"Personal Loan\"] == 1]['CCAvg'].median()*1000) #(multiply CCAvg by 1000 since its been mentioned in the data as $000)\n",
    "print('\\n')\n",
    "print('Age of Non-Loan customers: ',\n",
    "      df[df[\"Personal Loan\"] == 0]['Age'].median())\n",
    "print('Age of Loan customers    : ', \n",
    "      df[df[\"Personal Loan\"] == 1]['Age'].median())\n",
    "print('\\n')\n",
    "print('Mortgage of Non-Loan customers: ',\n",
    "      df[df[\"Personal Loan\"] == 0]['Mortgage'].mean()*1000) #(multiply Mortgage by 1000 since its been mentioned in the data as $000)\n",
    "print('Mortgage of Loan customers    : ', \n",
    "      df[df[\"Personal Loan\"] == 1]['Mortgage'].mean()*1000) #(multiply Mortgage by 1000 since its been mentioned in the data as $000)"
   ]
  },
  {
   "cell_type": "markdown",
   "metadata": {},
   "source": [
    "Observation :\n",
    "\n",
    "The graph shows the income of people with personal loan is higher.             \n",
    "The graph show persons who have personal loan have a higher credit card average.                \n",
    "The graph shows the age has no influence on personal loan.               \n",
    "The graph shows the mortgage of people with personal loan is higher.                 "
   ]
  },
  {
   "cell_type": "code",
   "execution_count": 33,
   "metadata": {},
   "outputs": [
    {
     "data": {
      "text/plain": [
       "Text(0.5, 1.0, 'CD Account Countplot')"
      ]
     },
     "execution_count": 33,
     "metadata": {},
     "output_type": "execute_result"
    },
    {
     "data": {
      "image/png": "[encoded data removed]",
      "text/plain": [
       "<Figure size 1440x432 with 2 Axes>"
      ]
     },
     "metadata": {
      "needs_background": "light"
     },
     "output_type": "display_data"
    },
    {
     "data": {
      "image/png": "[encoded data removed]",
      "text/plain": [
       "<Figure size 1440x432 with 2 Axes>"
      ]
     },
     "metadata": {
      "needs_background": "light"
     },
     "output_type": "display_data"
    }
   ],
   "source": [
    "# Distribution of Categorical variables against Personal Loan\n",
    "\n",
    "#Securities Account\n",
    "plt.figure(figsize=(20,6))\n",
    "plt.subplot(1, 2, 1)\n",
    "sns.countplot(x='Securities Account',data=df,hue='Personal Loan')\n",
    "plt.title(\"Securities Account Countplot\")\n",
    "\n",
    "#Family Size\n",
    "plt.subplot(1, 2, 2)\n",
    "sns.countplot(x='Family',data=df,hue='Personal Loan')\n",
    "plt.title(\"Family Countplot\")\n",
    "\n",
    "#Education\n",
    "plt.figure(figsize=(20,6))\n",
    "plt.subplot(1, 2, 1)\n",
    "sns.countplot(x='Education',data=df,hue='Personal Loan')\n",
    "plt.title(\"Education Countplot\")\n",
    "\n",
    "#CD Account\n",
    "plt.subplot(1, 2, 2)\n",
    "sns.countplot(x='CD Account',data=df,hue='Personal Loan')\n",
    "plt.title(\"CD Account Countplot\")"
   ]
  },
  {
   "cell_type": "markdown",
   "metadata": {},
   "source": [
    "Observation :\n",
    "\n",
    "Majority of customers who does not have loan have securities account          \n",
    "Family size does not have any impact in personal loan. But it seems families with size of 3 are more likely to take loan. When considering future campaign this might be good association.                  \n",
    "Education does not have any impact in personal loan. It looks like advanced professionals go for more loans compared to under grads, post grads.                 \n",
    "Customers who does not have CD account , does not have loan as well. This seems to be majority. But almost all customers who has CD account has loan as well       "
   ]
  },
  {
   "cell_type": "markdown",
   "metadata": {},
   "source": [
    "\n",
    "# 4. Split the data into training and test set in the ratio of 70:30 respectively "
   ]
  },
  {
   "cell_type": "code",
   "execution_count": 34,
   "metadata": {},
   "outputs": [
    {
     "data": {
      "text/html": [
       "<div>\n",
       "<style scoped>\n",
       "    .dataframe tbody tr th:only-of-type {\n",
       "        vertical-align: middle;\n",
       "    }\n",
       "\n",
       "    .dataframe tbody tr th {\n",
       "        vertical-align: top;\n",
       "    }\n",
       "\n",
       "    .dataframe thead th {\n",
       "        text-align: right;\n",
       "    }\n",
       "</style>\n",
       "<table border=\"1\" class=\"dataframe\">\n",
       "  <thead>\n",
       "    <tr style=\"text-align: right;\">\n",
       "      <th></th>\n",
       "      <th>Age</th>\n",
       "      <th>Income</th>\n",
       "      <th>ZIP Code</th>\n",
       "      <th>Family</th>\n",
       "      <th>CCAvg</th>\n",
       "      <th>Education</th>\n",
       "      <th>Mortgage</th>\n",
       "      <th>Securities Account</th>\n",
       "      <th>CD Account</th>\n",
       "      <th>Online</th>\n",
       "      <th>CreditCard</th>\n",
       "    </tr>\n",
       "  </thead>\n",
       "  <tbody>\n",
       "    <tr>\n",
       "      <td>4966</td>\n",
       "      <td>41</td>\n",
       "      <td>34</td>\n",
       "      <td>91361</td>\n",
       "      <td>1</td>\n",
       "      <td>0.7</td>\n",
       "      <td>1</td>\n",
       "      <td>143</td>\n",
       "      <td>0</td>\n",
       "      <td>0</td>\n",
       "      <td>0</td>\n",
       "      <td>0</td>\n",
       "    </tr>\n",
       "    <tr>\n",
       "      <td>4086</td>\n",
       "      <td>50</td>\n",
       "      <td>11</td>\n",
       "      <td>93106</td>\n",
       "      <td>4</td>\n",
       "      <td>0.2</td>\n",
       "      <td>1</td>\n",
       "      <td>0</td>\n",
       "      <td>1</td>\n",
       "      <td>0</td>\n",
       "      <td>0</td>\n",
       "      <td>0</td>\n",
       "    </tr>\n",
       "    <tr>\n",
       "      <td>2881</td>\n",
       "      <td>49</td>\n",
       "      <td>55</td>\n",
       "      <td>92103</td>\n",
       "      <td>4</td>\n",
       "      <td>0.1</td>\n",
       "      <td>3</td>\n",
       "      <td>0</td>\n",
       "      <td>0</td>\n",
       "      <td>0</td>\n",
       "      <td>1</td>\n",
       "      <td>0</td>\n",
       "    </tr>\n",
       "    <tr>\n",
       "      <td>1237</td>\n",
       "      <td>38</td>\n",
       "      <td>169</td>\n",
       "      <td>92093</td>\n",
       "      <td>1</td>\n",
       "      <td>6.8</td>\n",
       "      <td>3</td>\n",
       "      <td>0</td>\n",
       "      <td>0</td>\n",
       "      <td>1</td>\n",
       "      <td>1</td>\n",
       "      <td>1</td>\n",
       "    </tr>\n",
       "    <tr>\n",
       "      <td>1429</td>\n",
       "      <td>31</td>\n",
       "      <td>35</td>\n",
       "      <td>95064</td>\n",
       "      <td>1</td>\n",
       "      <td>0.6</td>\n",
       "      <td>3</td>\n",
       "      <td>171</td>\n",
       "      <td>0</td>\n",
       "      <td>0</td>\n",
       "      <td>0</td>\n",
       "      <td>0</td>\n",
       "    </tr>\n",
       "  </tbody>\n",
       "</table>\n",
       "</div>"
      ],
      "text/plain": [
       "      Age  Income ZIP Code Family  CCAvg Education  Mortgage  \\\n",
       "4966   41      34    91361      1    0.7         1       143   \n",
       "4086   50      11    93106      4    0.2         1         0   \n",
       "2881   49      55    92103      4    0.1         3         0   \n",
       "1237   38     169    92093      1    6.8         3         0   \n",
       "1429   31      35    95064      1    0.6         3       171   \n",
       "\n",
       "     Securities Account CD Account Online CreditCard  \n",
       "4966                  0          0      0          0  \n",
       "4086                  1          0      0          0  \n",
       "2881                  0          0      1          0  \n",
       "1237                  0          1      1          1  \n",
       "1429                  0          0      0          0  "
      ]
     },
     "execution_count": 34,
     "metadata": {},
     "output_type": "execute_result"
    }
   ],
   "source": [
    "#We can drop the attributes ID as it is just an Index value for the data and not required for building the model\n",
    "#We can drop the Experience Attribute as age and experience attribute are highly correlated  \n",
    "X = df.drop([\"ID\",\"Experience\",\"Personal Loan\"],axis=1)\n",
    "Y = df[\"Personal Loan\"]\n",
    "x_train, x_test, y_train, y_test = train_test_split(X, Y, test_size=0.3 , random_state=100)\n",
    "x_train.head()"
   ]
  },
  {
   "cell_type": "markdown",
   "metadata": {},
   "source": [
    "checking the split of data"
   ]
  },
  {
   "cell_type": "code",
   "execution_count": 35,
   "metadata": {},
   "outputs": [
    {
     "name": "stdout",
     "output_type": "stream",
     "text": [
      "70.00% data is in training set\n",
      "30.00% data is in test set\n"
     ]
    }
   ],
   "source": [
    "print(\"{0:0.2f}% data is in training set\".format((len(x_train)/len(df.index)) * 100))\n",
    "print(\"{0:0.2f}% data is in test set\".format((len(x_test)/len(df.index)) * 100))"
   ]
  },
  {
   "cell_type": "code",
   "execution_count": 36,
   "metadata": {},
   "outputs": [
    {
     "data": {
      "text/plain": [
       "0    3178\n",
       "1     322\n",
       "Name: Personal Loan, dtype: int64"
      ]
     },
     "execution_count": 36,
     "metadata": {},
     "output_type": "execute_result"
    }
   ],
   "source": [
    "y_train.value_counts()"
   ]
  },
  {
   "cell_type": "markdown",
   "metadata": {},
   "source": [
    "Scale the data"
   ]
  },
  {
   "cell_type": "code",
   "execution_count": 37,
   "metadata": {},
   "outputs": [],
   "source": [
    "### let us check the effect of scaling (convert all dimensions to z scores)\n",
    "from sklearn import preprocessing\n",
    "X_train_scaled = preprocessing.scale(x_train)\n",
    "X_test_scaled = preprocessing.scale(x_test) "
   ]
  },
  {
   "cell_type": "markdown",
   "metadata": {},
   "source": [
    "# 5.  Use different classification models (Logistic, K-NN and Naïve Bayes) to predict the likelihood of a customer buying personal loans "
   ]
  },
  {
   "cell_type": "markdown",
   "metadata": {},
   "source": [
    "# 5a. Logistic Regression"
   ]
  },
  {
   "cell_type": "code",
   "execution_count": 38,
   "metadata": {},
   "outputs": [],
   "source": [
    "#logistic regression model using Liblinear Solver\n",
    "logRegr = LogisticRegression(solver=\"sag\")"
   ]
  },
  {
   "cell_type": "code",
   "execution_count": 39,
   "metadata": {},
   "outputs": [
    {
     "name": "stderr",
     "output_type": "stream",
     "text": [
      "C:\\Users\\Krish\\Anaconda3\\lib\\site-packages\\sklearn\\linear_model\\sag.py:337: ConvergenceWarning: The max_iter was reached which means the coef_ did not converge\n",
      "  \"the coef_ did not converge\", ConvergenceWarning)\n"
     ]
    },
    {
     "data": {
      "text/plain": [
       "LogisticRegression(C=1.0, class_weight=None, dual=False, fit_intercept=True,\n",
       "                   intercept_scaling=1, l1_ratio=None, max_iter=100,\n",
       "                   multi_class='warn', n_jobs=None, penalty='l2',\n",
       "                   random_state=None, solver='sag', tol=0.0001, verbose=0,\n",
       "                   warm_start=False)"
      ]
     },
     "execution_count": 39,
     "metadata": {},
     "output_type": "execute_result"
    }
   ],
   "source": [
    "logRegr.fit(x_train, y_train)"
   ]
  },
  {
   "cell_type": "code",
   "execution_count": 40,
   "metadata": {},
   "outputs": [
    {
     "name": "stdout",
     "output_type": "stream",
     "text": [
      "Train Accuracy Score: 0.908\n",
      "Test Accuracy Score: 0.8947\n"
     ]
    }
   ],
   "source": [
    "# Use score method to get accuracy of train model\n",
    "logreg_train_score = logRegr.score(x_train, y_train)\n",
    "print('Train Accuracy Score:', np.round((logreg_train_score),4))\n",
    "\n",
    "# Use score method to get accuracy of test model\n",
    "logreg_test_score = logRegr.score(x_test, y_test)\n",
    "print('Test Accuracy Score:', np.round((logreg_test_score),4))"
   ]
  },
  {
   "cell_type": "code",
   "execution_count": 41,
   "metadata": {},
   "outputs": [
    {
     "data": {
      "text/html": [
       "<div>\n",
       "<style scoped>\n",
       "    .dataframe tbody tr th:only-of-type {\n",
       "        vertical-align: middle;\n",
       "    }\n",
       "\n",
       "    .dataframe tbody tr th {\n",
       "        vertical-align: top;\n",
       "    }\n",
       "\n",
       "    .dataframe thead th {\n",
       "        text-align: right;\n",
       "    }\n",
       "</style>\n",
       "<table border=\"1\" class=\"dataframe\">\n",
       "  <thead>\n",
       "    <tr style=\"text-align: right;\">\n",
       "      <th>True</th>\n",
       "      <th>No</th>\n",
       "      <th>Yes</th>\n",
       "    </tr>\n",
       "    <tr>\n",
       "      <th>Predicted</th>\n",
       "      <th></th>\n",
       "      <th></th>\n",
       "    </tr>\n",
       "  </thead>\n",
       "  <tbody>\n",
       "    <tr>\n",
       "      <td>No</td>\n",
       "      <td>3178</td>\n",
       "      <td>322</td>\n",
       "    </tr>\n",
       "    <tr>\n",
       "      <td>Yes</td>\n",
       "      <td>0</td>\n",
       "      <td>0</td>\n",
       "    </tr>\n",
       "  </tbody>\n",
       "</table>\n",
       "</div>"
      ],
      "text/plain": [
       "True         No  Yes\n",
       "Predicted           \n",
       "No         3178  322\n",
       "Yes           0    0"
      ]
     },
     "execution_count": 41,
     "metadata": {},
     "output_type": "execute_result"
    }
   ],
   "source": [
    "#Predict for train set\n",
    "pred_train = logRegr.predict(x_train)\n",
    "\n",
    "#Confusion Matrix\n",
    "logreg_cm_train = pd.DataFrame(confusion_matrix(y_train,pred_train).T,index=['No', 'Yes'], columns=['No', 'Yes'])\n",
    "logreg_cm_train.index.name = \"Predicted\"\n",
    "logreg_cm_train.columns.name = \"True\"\n",
    "logreg_cm_train"
   ]
  },
  {
   "cell_type": "code",
   "execution_count": 42,
   "metadata": {},
   "outputs": [
    {
     "data": {
      "text/html": [
       "<div>\n",
       "<style scoped>\n",
       "    .dataframe tbody tr th:only-of-type {\n",
       "        vertical-align: middle;\n",
       "    }\n",
       "\n",
       "    .dataframe tbody tr th {\n",
       "        vertical-align: top;\n",
       "    }\n",
       "\n",
       "    .dataframe thead th {\n",
       "        text-align: right;\n",
       "    }\n",
       "</style>\n",
       "<table border=\"1\" class=\"dataframe\">\n",
       "  <thead>\n",
       "    <tr style=\"text-align: right;\">\n",
       "      <th>True</th>\n",
       "      <th>No</th>\n",
       "      <th>Yes</th>\n",
       "    </tr>\n",
       "    <tr>\n",
       "      <th>Predicted</th>\n",
       "      <th></th>\n",
       "      <th></th>\n",
       "    </tr>\n",
       "  </thead>\n",
       "  <tbody>\n",
       "    <tr>\n",
       "      <td>No</td>\n",
       "      <td>1342</td>\n",
       "      <td>158</td>\n",
       "    </tr>\n",
       "    <tr>\n",
       "      <td>Yes</td>\n",
       "      <td>0</td>\n",
       "      <td>0</td>\n",
       "    </tr>\n",
       "  </tbody>\n",
       "</table>\n",
       "</div>"
      ],
      "text/plain": [
       "True         No  Yes\n",
       "Predicted           \n",
       "No         1342  158\n",
       "Yes           0    0"
      ]
     },
     "execution_count": 42,
     "metadata": {},
     "output_type": "execute_result"
    }
   ],
   "source": [
    "#Predict for test set\n",
    "pred_test = logRegr.predict(x_test)\n",
    "\n",
    "#Confusion Matrix\n",
    "logreg_cm_test = pd.DataFrame(confusion_matrix(y_test,pred_test).T,index=['No', 'Yes'], columns=['No', 'Yes'])\n",
    "logreg_cm_test.index.name = \"Predicted\"\n",
    "logreg_cm_test.columns.name = \"True\"\n",
    "logreg_cm_test"
   ]
  },
  {
   "cell_type": "code",
   "execution_count": 43,
   "metadata": {},
   "outputs": [
    {
     "data": {
      "image/png": "[encoded data removed]",
      "text/plain": [
       "<Figure size 432x288 with 1 Axes>"
      ]
     },
     "metadata": {
      "needs_background": "light"
     },
     "output_type": "display_data"
    }
   ],
   "source": [
    "#AUC ROC curve\n",
    "logit_roc_auc = roc_auc_score(y_test, logRegr.predict(x_test))\n",
    "fpr, tpr, thresholds = roc_curve(y_test, logRegr.predict_proba(x_test)[:,1])\n",
    "plt.figure()\n",
    "plt.plot(fpr, tpr, label='Logistic Regression (area = %0.2f)' % logit_roc_auc)\n",
    "plt.plot([0, 1], [0, 1],'r--')\n",
    "plt.xlim([0.0, 1.0])\n",
    "plt.ylim([0.0, 1.05])\n",
    "plt.xlabel('False Positive Rate')\n",
    "plt.ylabel('True Positive Rate')\n",
    "plt.title('Receiver operating characteristic')\n",
    "plt.legend(loc=\"lower right\")\n",
    "plt.savefig('Log_ROC')\n",
    "plt.show()"
   ]
  },
  {
   "cell_type": "code",
   "execution_count": 44,
   "metadata": {},
   "outputs": [
    {
     "name": "stdout",
     "output_type": "stream",
     "text": [
      "AUC Score is: 0.83\n"
     ]
    }
   ],
   "source": [
    "#Calculate auc score\n",
    "auc_score = metrics.roc_auc_score(y_test, logRegr.predict_proba(x_test)[:,1])\n",
    "print(\"AUC Score is:\",round( float( auc_score ), 2 ))"
   ]
  },
  {
   "cell_type": "code",
   "execution_count": 45,
   "metadata": {},
   "outputs": [
    {
     "name": "stdout",
     "output_type": "stream",
     "text": [
      "Total Accuracy :  0.8947\n",
      "\n",
      "\n",
      "Metrics Classification Report for logistic regression\n",
      "               precision    recall  f1-score   support\n",
      "\n",
      "           0       0.89      1.00      0.94      1342\n",
      "           1       0.00      0.00      0.00       158\n",
      "\n",
      "    accuracy                           0.89      1500\n",
      "   macro avg       0.45      0.50      0.47      1500\n",
      "weighted avg       0.80      0.89      0.84      1500\n",
      "\n"
     ]
    },
    {
     "name": "stderr",
     "output_type": "stream",
     "text": [
      "C:\\Users\\Krish\\Anaconda3\\lib\\site-packages\\sklearn\\metrics\\classification.py:1437: UndefinedMetricWarning: Precision and F-score are ill-defined and being set to 0.0 in labels with no predicted samples.\n",
      "  'precision', 'predicted', average, warn_for)\n"
     ]
    }
   ],
   "source": [
    "# summarize the fit of the model\n",
    "logreg_accuracy = np.round( metrics.accuracy_score( y_test, pred_test ), 4 )\n",
    "print( 'Total Accuracy : ', logreg_accuracy)\n",
    "print('\\n')\n",
    "print('Metrics Classification Report for logistic regression\\n',metrics.classification_report(y_test, pred_test))"
   ]
  },
  {
   "cell_type": "code",
   "execution_count": 46,
   "metadata": {},
   "outputs": [
    {
     "data": {
      "text/plain": [
       "LogisticRegression(C=1.0, class_weight=None, dual=False, fit_intercept=True,\n",
       "                   intercept_scaling=1, l1_ratio=None, max_iter=100,\n",
       "                   multi_class='warn', n_jobs=None, penalty='l2',\n",
       "                   random_state=None, solver='sag', tol=0.0001, verbose=0,\n",
       "                   warm_start=False)"
      ]
     },
     "execution_count": 46,
     "metadata": {},
     "output_type": "execute_result"
    }
   ],
   "source": [
    "### Logistic regression Fit using Scaled Data \n",
    "logRegr.fit(X_train_scaled, y_train)"
   ]
  },
  {
   "cell_type": "code",
   "execution_count": 47,
   "metadata": {},
   "outputs": [
    {
     "name": "stdout",
     "output_type": "stream",
     "text": [
      "Train Accuracy Score: 0.9554\n",
      "Test Accuracy Score: 0.9453\n"
     ]
    }
   ],
   "source": [
    "# Use score method to get accuracy of train model\n",
    "logreg_train_score_scaled = logRegr.score(X_train_scaled, y_train)\n",
    "print('Train Accuracy Score:', np.round((logreg_train_score_scaled),4))\n",
    "\n",
    "# Use score method to get accuracy of test model\n",
    "logreg_test_score_scaled = logRegr.score(X_test_scaled, y_test)\n",
    "print('Test Accuracy Score:', np.round((logreg_test_score_scaled),4))"
   ]
  },
  {
   "cell_type": "code",
   "execution_count": 48,
   "metadata": {},
   "outputs": [
    {
     "data": {
      "text/html": [
       "<div>\n",
       "<style scoped>\n",
       "    .dataframe tbody tr th:only-of-type {\n",
       "        vertical-align: middle;\n",
       "    }\n",
       "\n",
       "    .dataframe tbody tr th {\n",
       "        vertical-align: top;\n",
       "    }\n",
       "\n",
       "    .dataframe thead th {\n",
       "        text-align: right;\n",
       "    }\n",
       "</style>\n",
       "<table border=\"1\" class=\"dataframe\">\n",
       "  <thead>\n",
       "    <tr style=\"text-align: right;\">\n",
       "      <th>True</th>\n",
       "      <th>No</th>\n",
       "      <th>Yes</th>\n",
       "    </tr>\n",
       "    <tr>\n",
       "      <th>Predicted</th>\n",
       "      <th></th>\n",
       "      <th></th>\n",
       "    </tr>\n",
       "  </thead>\n",
       "  <tbody>\n",
       "    <tr>\n",
       "      <td>No</td>\n",
       "      <td>3135</td>\n",
       "      <td>113</td>\n",
       "    </tr>\n",
       "    <tr>\n",
       "      <td>Yes</td>\n",
       "      <td>43</td>\n",
       "      <td>209</td>\n",
       "    </tr>\n",
       "  </tbody>\n",
       "</table>\n",
       "</div>"
      ],
      "text/plain": [
       "True         No  Yes\n",
       "Predicted           \n",
       "No         3135  113\n",
       "Yes          43  209"
      ]
     },
     "execution_count": 48,
     "metadata": {},
     "output_type": "execute_result"
    }
   ],
   "source": [
    "#Predict for train set\n",
    "pred_train_scaled = logRegr.predict(X_train_scaled)\n",
    "\n",
    "#Confusion Matrix\n",
    "logreg_cm_train_scaled = pd.DataFrame(confusion_matrix(y_train,pred_train_scaled).T,index=['No', 'Yes'], columns=['No', 'Yes'])\n",
    "logreg_cm_train_scaled.index.name = \"Predicted\"\n",
    "logreg_cm_train_scaled.columns.name = \"True\"\n",
    "logreg_cm_train_scaled"
   ]
  },
  {
   "cell_type": "code",
   "execution_count": 49,
   "metadata": {},
   "outputs": [
    {
     "data": {
      "text/html": [
       "<div>\n",
       "<style scoped>\n",
       "    .dataframe tbody tr th:only-of-type {\n",
       "        vertical-align: middle;\n",
       "    }\n",
       "\n",
       "    .dataframe tbody tr th {\n",
       "        vertical-align: top;\n",
       "    }\n",
       "\n",
       "    .dataframe thead th {\n",
       "        text-align: right;\n",
       "    }\n",
       "</style>\n",
       "<table border=\"1\" class=\"dataframe\">\n",
       "  <thead>\n",
       "    <tr style=\"text-align: right;\">\n",
       "      <th>True</th>\n",
       "      <th>No</th>\n",
       "      <th>Yes</th>\n",
       "    </tr>\n",
       "    <tr>\n",
       "      <th>Predicted</th>\n",
       "      <th></th>\n",
       "      <th></th>\n",
       "    </tr>\n",
       "  </thead>\n",
       "  <tbody>\n",
       "    <tr>\n",
       "      <td>No</td>\n",
       "      <td>1330</td>\n",
       "      <td>70</td>\n",
       "    </tr>\n",
       "    <tr>\n",
       "      <td>Yes</td>\n",
       "      <td>12</td>\n",
       "      <td>88</td>\n",
       "    </tr>\n",
       "  </tbody>\n",
       "</table>\n",
       "</div>"
      ],
      "text/plain": [
       "True         No  Yes\n",
       "Predicted           \n",
       "No         1330   70\n",
       "Yes          12   88"
      ]
     },
     "execution_count": 49,
     "metadata": {},
     "output_type": "execute_result"
    }
   ],
   "source": [
    "#make predictions\n",
    "pred_test_scaled = logRegr.predict(X_test_scaled)\n",
    "#Confusion Matrix\n",
    "logreg_cm_test_scaled = pd.DataFrame(confusion_matrix(y_test,pred_test_scaled).T,index=['No', 'Yes'], columns=['No', 'Yes'])\n",
    "logreg_cm_test_scaled.index.name = \"Predicted\"\n",
    "logreg_cm_test_scaled.columns.name = \"True\"\n",
    "logreg_cm_test_scaled"
   ]
  },
  {
   "cell_type": "code",
   "execution_count": 50,
   "metadata": {},
   "outputs": [
    {
     "data": {
      "image/png": "[encoded data removed]",
      "text/plain": [
       "<Figure size 432x288 with 1 Axes>"
      ]
     },
     "metadata": {
      "needs_background": "light"
     },
     "output_type": "display_data"
    }
   ],
   "source": [
    "\n",
    "#AUC ROC curve\n",
    "from sklearn.metrics import roc_auc_score\n",
    "from sklearn.metrics import roc_curve\n",
    "\n",
    "logit_roc_auc_scaled = roc_auc_score(y_test, logRegr.predict(X_test_scaled))\n",
    "fpr_s, tpr_s, thresholds_s = roc_curve(y_test, logRegr.predict_proba(X_test_scaled)[:,1])\n",
    "plt.figure()\n",
    "plt.plot(fpr_s, tpr_s, label='Logistic Regression (area = %0.2f)' % logit_roc_auc_scaled)\n",
    "plt.plot([0, 1], [0, 1],'r--')\n",
    "plt.xlim([0.0, 1.0])\n",
    "plt.ylim([0.0, 1.05])\n",
    "plt.xlabel('False Positive Rate')\n",
    "plt.ylabel('True Positive Rate')\n",
    "plt.title('Receiver operating characteristic')\n",
    "plt.legend(loc=\"lower right\")\n",
    "plt.savefig('Log_ROC_scaled')\n",
    "plt.show()"
   ]
  },
  {
   "cell_type": "code",
   "execution_count": 51,
   "metadata": {},
   "outputs": [
    {
     "data": {
      "text/plain": [
       "0.95"
      ]
     },
     "execution_count": 51,
     "metadata": {},
     "output_type": "execute_result"
    }
   ],
   "source": [
    "#Calculate auc score\n",
    "auc_score_scaled = metrics.roc_auc_score(y_test, logRegr.predict_proba(X_test_scaled)[:,1])\n",
    "round( float( auc_score_scaled ), 2 )"
   ]
  },
  {
   "cell_type": "code",
   "execution_count": 52,
   "metadata": {},
   "outputs": [
    {
     "name": "stdout",
     "output_type": "stream",
     "text": [
      "Total Accuracy :  0.9453\n",
      "\n",
      "\n",
      "Metrics Classification Report for logistic regression for scaled data:\n",
      "               precision    recall  f1-score   support\n",
      "\n",
      "           0       0.95      0.99      0.97      1342\n",
      "           1       0.88      0.56      0.68       158\n",
      "\n",
      "    accuracy                           0.95      1500\n",
      "   macro avg       0.92      0.77      0.83      1500\n",
      "weighted avg       0.94      0.95      0.94      1500\n",
      "\n"
     ]
    }
   ],
   "source": [
    "# summarize the fit of the model for scaled data\n",
    "logreg_accuracy_scaled = np.round( metrics.accuracy_score( y_test, pred_test_scaled ), 4 )\n",
    "print( 'Total Accuracy : ', logreg_accuracy_scaled)\n",
    "print('\\n')\n",
    "print('Metrics Classification Report for logistic regression for scaled data:\\n', metrics.classification_report(y_test, pred_test_scaled))"
   ]
  },
  {
   "cell_type": "markdown",
   "metadata": {},
   "source": [
    "# 5b. Gaussian Naive Bayes Model"
   ]
  },
  {
   "cell_type": "code",
   "execution_count": 53,
   "metadata": {},
   "outputs": [
    {
     "name": "stdout",
     "output_type": "stream",
     "text": [
      "Train Accuracy Score: 0.8871\n",
      "Test Accuracy Score: 0.8867\n"
     ]
    }
   ],
   "source": [
    "# Invoking the NB Gaussian function to create the model\n",
    "# fitting the model in the training data set\n",
    "model = GaussianNB()\n",
    "model.fit(x_train, y_train)\n",
    "\n",
    "# Use score method to get accuracy of train model\n",
    "NB_train_score = model.score(x_train, y_train)\n",
    "print('Train Accuracy Score:', np.round((NB_train_score),4))\n",
    "\n",
    "# Use score method to get accuracy of test model\n",
    "NB_test_score = model.score(x_test, y_test)\n",
    "print('Test Accuracy Score:', np.round((NB_test_score),4))"
   ]
  },
  {
   "cell_type": "code",
   "execution_count": 54,
   "metadata": {},
   "outputs": [
    {
     "data": {
      "text/html": [
       "<div>\n",
       "<style scoped>\n",
       "    .dataframe tbody tr th:only-of-type {\n",
       "        vertical-align: middle;\n",
       "    }\n",
       "\n",
       "    .dataframe tbody tr th {\n",
       "        vertical-align: top;\n",
       "    }\n",
       "\n",
       "    .dataframe thead th {\n",
       "        text-align: right;\n",
       "    }\n",
       "</style>\n",
       "<table border=\"1\" class=\"dataframe\">\n",
       "  <thead>\n",
       "    <tr style=\"text-align: right;\">\n",
       "      <th>True</th>\n",
       "      <th>No</th>\n",
       "      <th>Yes</th>\n",
       "    </tr>\n",
       "    <tr>\n",
       "      <th>Predicted</th>\n",
       "      <th></th>\n",
       "      <th></th>\n",
       "    </tr>\n",
       "  </thead>\n",
       "  <tbody>\n",
       "    <tr>\n",
       "      <td>No</td>\n",
       "      <td>2923</td>\n",
       "      <td>140</td>\n",
       "    </tr>\n",
       "    <tr>\n",
       "      <td>Yes</td>\n",
       "      <td>255</td>\n",
       "      <td>182</td>\n",
       "    </tr>\n",
       "  </tbody>\n",
       "</table>\n",
       "</div>"
      ],
      "text/plain": [
       "True         No  Yes\n",
       "Predicted           \n",
       "No         2923  140\n",
       "Yes         255  182"
      ]
     },
     "execution_count": 54,
     "metadata": {},
     "output_type": "execute_result"
    }
   ],
   "source": [
    "#Predict for train set\n",
    "pred_train_NB = model.predict(x_train)\n",
    "\n",
    "#Confusion Matrix\n",
    "NB_cm_train = pd.DataFrame(confusion_matrix(y_train,pred_train_NB).T,index=['No', 'Yes'], columns=['No', 'Yes'])\n",
    "NB_cm_train.index.name = \"Predicted\"\n",
    "NB_cm_train.columns.name = \"True\"\n",
    "NB_cm_train"
   ]
  },
  {
   "cell_type": "code",
   "execution_count": 55,
   "metadata": {},
   "outputs": [
    {
     "data": {
      "text/html": [
       "<div>\n",
       "<style scoped>\n",
       "    .dataframe tbody tr th:only-of-type {\n",
       "        vertical-align: middle;\n",
       "    }\n",
       "\n",
       "    .dataframe tbody tr th {\n",
       "        vertical-align: top;\n",
       "    }\n",
       "\n",
       "    .dataframe thead th {\n",
       "        text-align: right;\n",
       "    }\n",
       "</style>\n",
       "<table border=\"1\" class=\"dataframe\">\n",
       "  <thead>\n",
       "    <tr style=\"text-align: right;\">\n",
       "      <th>True</th>\n",
       "      <th>No</th>\n",
       "      <th>Yes</th>\n",
       "    </tr>\n",
       "    <tr>\n",
       "      <th>Predicted</th>\n",
       "      <th></th>\n",
       "      <th></th>\n",
       "    </tr>\n",
       "  </thead>\n",
       "  <tbody>\n",
       "    <tr>\n",
       "      <td>No</td>\n",
       "      <td>1234</td>\n",
       "      <td>62</td>\n",
       "    </tr>\n",
       "    <tr>\n",
       "      <td>Yes</td>\n",
       "      <td>108</td>\n",
       "      <td>96</td>\n",
       "    </tr>\n",
       "  </tbody>\n",
       "</table>\n",
       "</div>"
      ],
      "text/plain": [
       "True         No  Yes\n",
       "Predicted           \n",
       "No         1234   62\n",
       "Yes         108   96"
      ]
     },
     "execution_count": 55,
     "metadata": {},
     "output_type": "execute_result"
    }
   ],
   "source": [
    "# make predictions\n",
    "pred_test_NB = model.predict(x_test)\n",
    "\n",
    "#Confusion Matrix\n",
    "NB_cm_test = pd.DataFrame(confusion_matrix(y_test,pred_test_NB).T,index=['No', 'Yes'], columns=['No', 'Yes'])\n",
    "NB_cm_test.index.name = \"Predicted\"\n",
    "NB_cm_test.columns.name = \"True\"\n",
    "NB_cm_test"
   ]
  },
  {
   "cell_type": "code",
   "execution_count": 56,
   "metadata": {},
   "outputs": [
    {
     "data": {
      "text/plain": [
       "0.93"
      ]
     },
     "execution_count": 56,
     "metadata": {},
     "output_type": "execute_result"
    }
   ],
   "source": [
    "#Calculate auc score\n",
    "NB_auc_score = metrics.roc_auc_score(y_test, model.predict_proba(x_test)[:,1])\n",
    "round( float( NB_auc_score ), 2 )"
   ]
  },
  {
   "cell_type": "code",
   "execution_count": 57,
   "metadata": {},
   "outputs": [
    {
     "name": "stdout",
     "output_type": "stream",
     "text": [
      "Total Accuracy :  0.8867\n",
      "\n",
      "\n",
      "Metrics Classification Report for Naive bayes:\n",
      "               precision    recall  f1-score   support\n",
      "\n",
      "           0       0.95      0.92      0.94      1342\n",
      "           1       0.47      0.61      0.53       158\n",
      "\n",
      "    accuracy                           0.89      1500\n",
      "   macro avg       0.71      0.76      0.73      1500\n",
      "weighted avg       0.90      0.89      0.89      1500\n",
      "\n"
     ]
    }
   ],
   "source": [
    "# summarize the fit of the model\n",
    "NB_accuracy = np.round( metrics.accuracy_score( y_test, pred_test_NB ), 4 )\n",
    "print( 'Total Accuracy : ', NB_accuracy)\n",
    "print('\\n')\n",
    "print('Metrics Classification Report for Naive bayes:\\n', metrics.classification_report(y_test, pred_test_NB))"
   ]
  },
  {
   "cell_type": "code",
   "execution_count": 58,
   "metadata": {},
   "outputs": [
    {
     "data": {
      "text/plain": [
       "GaussianNB(priors=None, var_smoothing=1e-09)"
      ]
     },
     "execution_count": 58,
     "metadata": {},
     "output_type": "execute_result"
    }
   ],
   "source": [
    "### Fit Scaled Data\n",
    "model.fit(X_train_scaled, y_train)"
   ]
  },
  {
   "cell_type": "code",
   "execution_count": 59,
   "metadata": {},
   "outputs": [
    {
     "name": "stdout",
     "output_type": "stream",
     "text": [
      "Train Accuracy Score: 0.8843\n",
      "Test Accuracy Score: 0.888\n"
     ]
    }
   ],
   "source": [
    "# Use score method to get accuracy of train model\n",
    "NB_train_score_scaled = model.score(X_train_scaled, y_train)\n",
    "print('Train Accuracy Score:', np.round((NB_train_score_scaled),4))\n",
    "\n",
    "# Use score method to get accuracy of test model\n",
    "NB_test_score_scaled = model.score(X_test_scaled, y_test)\n",
    "print('Test Accuracy Score:', np.round((NB_test_score_scaled),4))"
   ]
  },
  {
   "cell_type": "code",
   "execution_count": 60,
   "metadata": {},
   "outputs": [
    {
     "data": {
      "text/html": [
       "<div>\n",
       "<style scoped>\n",
       "    .dataframe tbody tr th:only-of-type {\n",
       "        vertical-align: middle;\n",
       "    }\n",
       "\n",
       "    .dataframe tbody tr th {\n",
       "        vertical-align: top;\n",
       "    }\n",
       "\n",
       "    .dataframe thead th {\n",
       "        text-align: right;\n",
       "    }\n",
       "</style>\n",
       "<table border=\"1\" class=\"dataframe\">\n",
       "  <thead>\n",
       "    <tr style=\"text-align: right;\">\n",
       "      <th>True</th>\n",
       "      <th>No</th>\n",
       "      <th>Yes</th>\n",
       "    </tr>\n",
       "    <tr>\n",
       "      <th>Predicted</th>\n",
       "      <th></th>\n",
       "      <th></th>\n",
       "    </tr>\n",
       "  </thead>\n",
       "  <tbody>\n",
       "    <tr>\n",
       "      <td>No</td>\n",
       "      <td>2913</td>\n",
       "      <td>140</td>\n",
       "    </tr>\n",
       "    <tr>\n",
       "      <td>Yes</td>\n",
       "      <td>265</td>\n",
       "      <td>182</td>\n",
       "    </tr>\n",
       "  </tbody>\n",
       "</table>\n",
       "</div>"
      ],
      "text/plain": [
       "True         No  Yes\n",
       "Predicted           \n",
       "No         2913  140\n",
       "Yes         265  182"
      ]
     },
     "execution_count": 60,
     "metadata": {},
     "output_type": "execute_result"
    }
   ],
   "source": [
    "#Predict for train set\n",
    "pred_train_NB_scaled = model.predict(X_train_scaled)\n",
    "\n",
    "#Confusion Matrix\n",
    "NB_cm_train_scaled = pd.DataFrame(confusion_matrix(y_train,pred_train_NB_scaled).T,index=['No', 'Yes'], columns=['No', 'Yes'])\n",
    "NB_cm_train_scaled.index.name = \"Predicted\"\n",
    "NB_cm_train_scaled.columns.name = \"True\"\n",
    "NB_cm_train_scaled"
   ]
  },
  {
   "cell_type": "code",
   "execution_count": 61,
   "metadata": {},
   "outputs": [
    {
     "data": {
      "text/html": [
       "<div>\n",
       "<style scoped>\n",
       "    .dataframe tbody tr th:only-of-type {\n",
       "        vertical-align: middle;\n",
       "    }\n",
       "\n",
       "    .dataframe tbody tr th {\n",
       "        vertical-align: top;\n",
       "    }\n",
       "\n",
       "    .dataframe thead th {\n",
       "        text-align: right;\n",
       "    }\n",
       "</style>\n",
       "<table border=\"1\" class=\"dataframe\">\n",
       "  <thead>\n",
       "    <tr style=\"text-align: right;\">\n",
       "      <th>True</th>\n",
       "      <th>No</th>\n",
       "      <th>Yes</th>\n",
       "    </tr>\n",
       "    <tr>\n",
       "      <th>Predicted</th>\n",
       "      <th></th>\n",
       "      <th></th>\n",
       "    </tr>\n",
       "  </thead>\n",
       "  <tbody>\n",
       "    <tr>\n",
       "      <td>No</td>\n",
       "      <td>1238</td>\n",
       "      <td>64</td>\n",
       "    </tr>\n",
       "    <tr>\n",
       "      <td>Yes</td>\n",
       "      <td>104</td>\n",
       "      <td>94</td>\n",
       "    </tr>\n",
       "  </tbody>\n",
       "</table>\n",
       "</div>"
      ],
      "text/plain": [
       "True         No  Yes\n",
       "Predicted           \n",
       "No         1238   64\n",
       "Yes         104   94"
      ]
     },
     "execution_count": 61,
     "metadata": {},
     "output_type": "execute_result"
    }
   ],
   "source": [
    "#make predictions\n",
    "pred_test_NB_scaled = model.predict(X_test_scaled)\n",
    "\n",
    "#Confusion Matrix\n",
    "NB_cm_test_scaled = pd.DataFrame(confusion_matrix(y_test,pred_test_NB_scaled).T,index=['No', 'Yes'], columns=['No', 'Yes'])\n",
    "NB_cm_test_scaled.index.name = \"Predicted\"\n",
    "NB_cm_test_scaled.columns.name = \"True\"\n",
    "NB_cm_test_scaled"
   ]
  },
  {
   "cell_type": "code",
   "execution_count": 62,
   "metadata": {},
   "outputs": [
    {
     "data": {
      "text/plain": [
       "0.93"
      ]
     },
     "execution_count": 62,
     "metadata": {},
     "output_type": "execute_result"
    }
   ],
   "source": [
    "#Calculate auc score\n",
    "NB_auc_score_scaled = metrics.roc_auc_score(y_test, model.predict_proba(X_test_scaled)[:,1])\n",
    "round( float( NB_auc_score_scaled ), 2 )"
   ]
  },
  {
   "cell_type": "code",
   "execution_count": 63,
   "metadata": {},
   "outputs": [
    {
     "name": "stdout",
     "output_type": "stream",
     "text": [
      "Total Accuracy :  0.888\n",
      "\n",
      "\n",
      "Metrics Classification Report for Naive Bayes for scaled data: \n",
      "               precision    recall  f1-score   support\n",
      "\n",
      "           0       0.95      0.92      0.94      1342\n",
      "           1       0.47      0.59      0.53       158\n",
      "\n",
      "    accuracy                           0.89      1500\n",
      "   macro avg       0.71      0.76      0.73      1500\n",
      "weighted avg       0.90      0.89      0.89      1500\n",
      "\n"
     ]
    }
   ],
   "source": [
    "# summarize the fit of the model for scaled data\n",
    "NB_accuracy_scaled = np.round( metrics.accuracy_score( y_test, pred_test_NB_scaled ), 4 )\n",
    "print( 'Total Accuracy : ', NB_accuracy_scaled)\n",
    "print('\\n')\n",
    "print('Metrics Classification Report for Naive Bayes for scaled data: \\n', metrics.classification_report(y_test, pred_test_NB_scaled))"
   ]
  },
  {
   "cell_type": "markdown",
   "metadata": {},
   "source": [
    "# 5c. K-Nearest Neighbours Classification"
   ]
  },
  {
   "cell_type": "code",
   "execution_count": 64,
   "metadata": {},
   "outputs": [],
   "source": [
    "# creating odd list of K for KNN\n",
    "myList = list(range(1,70))\n",
    "\n",
    "# subsetting just the odd ones\n",
    "neighbors = list(filter(lambda x: x % 2 != 0, myList))"
   ]
  },
  {
   "cell_type": "code",
   "execution_count": 65,
   "metadata": {},
   "outputs": [
    {
     "name": "stdout",
     "output_type": "stream",
     "text": [
      "The optimal number of neighbors is 31\n"
     ]
    }
   ],
   "source": [
    "# empty list that will hold accuracy scores\n",
    "ac_scores = []\n",
    "\n",
    "# perform accuracy metrics for values from 1,3,5....19\n",
    "for k in neighbors:\n",
    "    knn = KNeighborsClassifier(n_neighbors=k)\n",
    "    knn.fit(x_train, y_train)\n",
    "    # predict the response\n",
    "    y_pred = knn.predict(x_test)\n",
    "    # evaluate accuracy\n",
    "    scores = accuracy_score(y_test, y_pred)\n",
    "    ac_scores.append(scores)\n",
    "\n",
    "# changing to misclassification error\n",
    "MSE = [1 - x for x in ac_scores]\n",
    "\n",
    "# determining best k\n",
    "optimal_k = neighbors[MSE.index(min(MSE))]\n",
    "print(\"The optimal number of neighbors is %d\" % optimal_k)"
   ]
  },
  {
   "cell_type": "code",
   "execution_count": 66,
   "metadata": {},
   "outputs": [
    {
     "name": "stdout",
     "output_type": "stream",
     "text": [
      "Train Accuracy Score: 1.0\n",
      "Test Accuracy Score: 0.8973\n"
     ]
    }
   ],
   "source": [
    "# Invoking the KNN function to create the model\n",
    "# fitting the model in the training data set\n",
    "\n",
    "NNH = KNeighborsClassifier(n_neighbors= optimal_k , weights = 'distance')\n",
    "NNH.fit(x_train, y_train)\n",
    "\n",
    "# Use score method to get accuracy of train model\n",
    "KNN_train_score = NNH.score(x_train, y_train)\n",
    "print('Train Accuracy Score:', np.round((KNN_train_score),4))\n",
    "\n",
    "# Use score method to get accuracy of test model\n",
    "KNN_test_score = NNH.score(x_test, y_test)\n",
    "print('Test Accuracy Score:', np.round((KNN_test_score),4))"
   ]
  },
  {
   "cell_type": "code",
   "execution_count": 67,
   "metadata": {},
   "outputs": [
    {
     "data": {
      "text/html": [
       "<div>\n",
       "<style scoped>\n",
       "    .dataframe tbody tr th:only-of-type {\n",
       "        vertical-align: middle;\n",
       "    }\n",
       "\n",
       "    .dataframe tbody tr th {\n",
       "        vertical-align: top;\n",
       "    }\n",
       "\n",
       "    .dataframe thead th {\n",
       "        text-align: right;\n",
       "    }\n",
       "</style>\n",
       "<table border=\"1\" class=\"dataframe\">\n",
       "  <thead>\n",
       "    <tr style=\"text-align: right;\">\n",
       "      <th>True</th>\n",
       "      <th>No</th>\n",
       "      <th>Yes</th>\n",
       "    </tr>\n",
       "    <tr>\n",
       "      <th>Predicted</th>\n",
       "      <th></th>\n",
       "      <th></th>\n",
       "    </tr>\n",
       "  </thead>\n",
       "  <tbody>\n",
       "    <tr>\n",
       "      <td>No</td>\n",
       "      <td>3178</td>\n",
       "      <td>0</td>\n",
       "    </tr>\n",
       "    <tr>\n",
       "      <td>Yes</td>\n",
       "      <td>0</td>\n",
       "      <td>322</td>\n",
       "    </tr>\n",
       "  </tbody>\n",
       "</table>\n",
       "</div>"
      ],
      "text/plain": [
       "True         No  Yes\n",
       "Predicted           \n",
       "No         3178    0\n",
       "Yes           0  322"
      ]
     },
     "execution_count": 67,
     "metadata": {},
     "output_type": "execute_result"
    }
   ],
   "source": [
    "#Predict for train set\n",
    "pred_train_KNN = NNH.predict(x_train)\n",
    "\n",
    "#Confusion Matrix\n",
    "KNN_cm_train = pd.DataFrame(confusion_matrix(y_train,pred_train_KNN).T,index=['No', 'Yes'], columns=['No', 'Yes'])\n",
    "KNN_cm_train.index.name = \"Predicted\"\n",
    "KNN_cm_train.columns.name = \"True\"\n",
    "KNN_cm_train"
   ]
  },
  {
   "cell_type": "code",
   "execution_count": 68,
   "metadata": {},
   "outputs": [
    {
     "data": {
      "text/html": [
       "<div>\n",
       "<style scoped>\n",
       "    .dataframe tbody tr th:only-of-type {\n",
       "        vertical-align: middle;\n",
       "    }\n",
       "\n",
       "    .dataframe tbody tr th {\n",
       "        vertical-align: top;\n",
       "    }\n",
       "\n",
       "    .dataframe thead th {\n",
       "        text-align: right;\n",
       "    }\n",
       "</style>\n",
       "<table border=\"1\" class=\"dataframe\">\n",
       "  <thead>\n",
       "    <tr style=\"text-align: right;\">\n",
       "      <th>True</th>\n",
       "      <th>No</th>\n",
       "      <th>Yes</th>\n",
       "    </tr>\n",
       "    <tr>\n",
       "      <th>Predicted</th>\n",
       "      <th></th>\n",
       "      <th></th>\n",
       "    </tr>\n",
       "  </thead>\n",
       "  <tbody>\n",
       "    <tr>\n",
       "      <td>No</td>\n",
       "      <td>1338</td>\n",
       "      <td>150</td>\n",
       "    </tr>\n",
       "    <tr>\n",
       "      <td>Yes</td>\n",
       "      <td>4</td>\n",
       "      <td>8</td>\n",
       "    </tr>\n",
       "  </tbody>\n",
       "</table>\n",
       "</div>"
      ],
      "text/plain": [
       "True         No  Yes\n",
       "Predicted           \n",
       "No         1338  150\n",
       "Yes           4    8"
      ]
     },
     "execution_count": 68,
     "metadata": {},
     "output_type": "execute_result"
    }
   ],
   "source": [
    "#make predictions for test set\n",
    "pred_test_KNN = NNH.predict(x_test)\n",
    "\n",
    "\n",
    "#Confusion Matrix\n",
    "KNN_cm_test = pd.DataFrame(confusion_matrix(y_test,pred_test_KNN).T,index=['No', 'Yes'], columns=['No', 'Yes'])\n",
    "KNN_cm_test.index.name = \"Predicted\"\n",
    "KNN_cm_test.columns.name = \"True\"\n",
    "KNN_cm_test"
   ]
  },
  {
   "cell_type": "code",
   "execution_count": 69,
   "metadata": {},
   "outputs": [
    {
     "data": {
      "text/plain": [
       "0.88"
      ]
     },
     "execution_count": 69,
     "metadata": {},
     "output_type": "execute_result"
    }
   ],
   "source": [
    "#Calculate auc score\n",
    "KNN_auc_score = metrics.roc_auc_score(y_test, NNH.predict_proba(x_test)[:,1])\n",
    "round( float( KNN_auc_score ), 2 )"
   ]
  },
  {
   "cell_type": "code",
   "execution_count": 70,
   "metadata": {},
   "outputs": [
    {
     "name": "stdout",
     "output_type": "stream",
     "text": [
      "Total Accuracy :  0.8973\n",
      "\n",
      "\n",
      "Metrics Classification Report for KNN: \n",
      "               precision    recall  f1-score   support\n",
      "\n",
      "           0       0.90      1.00      0.95      1342\n",
      "           1       0.67      0.05      0.09       158\n",
      "\n",
      "    accuracy                           0.90      1500\n",
      "   macro avg       0.78      0.52      0.52      1500\n",
      "weighted avg       0.87      0.90      0.86      1500\n",
      "\n"
     ]
    }
   ],
   "source": [
    "# summarize the fit of the model\n",
    "\n",
    "KNN_accuracy = np.round( metrics.accuracy_score( y_test, pred_test_KNN ), 4 )\n",
    "print( 'Total Accuracy : ', KNN_accuracy )\n",
    "print('\\n')\n",
    "print('Metrics Classification Report for KNN: \\n', metrics.classification_report(y_test, pred_test_KNN))"
   ]
  },
  {
   "cell_type": "code",
   "execution_count": 71,
   "metadata": {},
   "outputs": [
    {
     "data": {
      "text/plain": [
       "KNeighborsClassifier(algorithm='auto', leaf_size=30, metric='minkowski',\n",
       "                     metric_params=None, n_jobs=None, n_neighbors=31, p=2,\n",
       "                     weights='distance')"
      ]
     },
     "execution_count": 71,
     "metadata": {},
     "output_type": "execute_result"
    }
   ],
   "source": [
    "### Fit scaled data\n",
    "NNH.fit(X_train_scaled, y_train)"
   ]
  },
  {
   "cell_type": "code",
   "execution_count": 72,
   "metadata": {},
   "outputs": [
    {
     "name": "stdout",
     "output_type": "stream",
     "text": [
      "Train Accuracy Score: 1.0\n",
      "Test Accuracy Score: 0.936\n"
     ]
    }
   ],
   "source": [
    "# Use score method to get accuracy of train model\n",
    "KNN_train_score_scaled = NNH.score(X_train_scaled, y_train)\n",
    "print('Train Accuracy Score:', np.round((KNN_train_score_scaled),4))\n",
    "\n",
    "# Use score method to get accuracy of test model\n",
    "KNN_test_score_scaled = NNH.score(X_test_scaled, y_test)\n",
    "print('Test Accuracy Score:', np.round((KNN_test_score_scaled),4))"
   ]
  },
  {
   "cell_type": "code",
   "execution_count": 73,
   "metadata": {},
   "outputs": [
    {
     "data": {
      "text/html": [
       "<div>\n",
       "<style scoped>\n",
       "    .dataframe tbody tr th:only-of-type {\n",
       "        vertical-align: middle;\n",
       "    }\n",
       "\n",
       "    .dataframe tbody tr th {\n",
       "        vertical-align: top;\n",
       "    }\n",
       "\n",
       "    .dataframe thead th {\n",
       "        text-align: right;\n",
       "    }\n",
       "</style>\n",
       "<table border=\"1\" class=\"dataframe\">\n",
       "  <thead>\n",
       "    <tr style=\"text-align: right;\">\n",
       "      <th>True</th>\n",
       "      <th>No</th>\n",
       "      <th>Yes</th>\n",
       "    </tr>\n",
       "    <tr>\n",
       "      <th>Predicted</th>\n",
       "      <th></th>\n",
       "      <th></th>\n",
       "    </tr>\n",
       "  </thead>\n",
       "  <tbody>\n",
       "    <tr>\n",
       "      <td>No</td>\n",
       "      <td>2913</td>\n",
       "      <td>140</td>\n",
       "    </tr>\n",
       "    <tr>\n",
       "      <td>Yes</td>\n",
       "      <td>265</td>\n",
       "      <td>182</td>\n",
       "    </tr>\n",
       "  </tbody>\n",
       "</table>\n",
       "</div>"
      ],
      "text/plain": [
       "True         No  Yes\n",
       "Predicted           \n",
       "No         2913  140\n",
       "Yes         265  182"
      ]
     },
     "execution_count": 73,
     "metadata": {},
     "output_type": "execute_result"
    }
   ],
   "source": [
    "#Predict for train set\n",
    "pred_train_KNN_scaled = model.predict(X_train_scaled)\n",
    "\n",
    "#Confusion Matrix\n",
    "KNN_cm_train_scaled = pd.DataFrame(confusion_matrix(y_train,pred_train_KNN_scaled).T,index=['No', 'Yes'], columns=['No', 'Yes'])\n",
    "KNN_cm_train_scaled.index.name = \"Predicted\"\n",
    "KNN_cm_train_scaled.columns.name = \"True\"\n",
    "KNN_cm_train_scaled"
   ]
  },
  {
   "cell_type": "code",
   "execution_count": 74,
   "metadata": {},
   "outputs": [
    {
     "data": {
      "text/html": [
       "<div>\n",
       "<style scoped>\n",
       "    .dataframe tbody tr th:only-of-type {\n",
       "        vertical-align: middle;\n",
       "    }\n",
       "\n",
       "    .dataframe tbody tr th {\n",
       "        vertical-align: top;\n",
       "    }\n",
       "\n",
       "    .dataframe thead th {\n",
       "        text-align: right;\n",
       "    }\n",
       "</style>\n",
       "<table border=\"1\" class=\"dataframe\">\n",
       "  <thead>\n",
       "    <tr style=\"text-align: right;\">\n",
       "      <th>True</th>\n",
       "      <th>No</th>\n",
       "      <th>Yes</th>\n",
       "    </tr>\n",
       "    <tr>\n",
       "      <th>Predicted</th>\n",
       "      <th></th>\n",
       "      <th></th>\n",
       "    </tr>\n",
       "  </thead>\n",
       "  <tbody>\n",
       "    <tr>\n",
       "      <td>No</td>\n",
       "      <td>1338</td>\n",
       "      <td>92</td>\n",
       "    </tr>\n",
       "    <tr>\n",
       "      <td>Yes</td>\n",
       "      <td>4</td>\n",
       "      <td>66</td>\n",
       "    </tr>\n",
       "  </tbody>\n",
       "</table>\n",
       "</div>"
      ],
      "text/plain": [
       "True         No  Yes\n",
       "Predicted           \n",
       "No         1338   92\n",
       "Yes           4   66"
      ]
     },
     "execution_count": 74,
     "metadata": {},
     "output_type": "execute_result"
    }
   ],
   "source": [
    "#make predictions\n",
    "pred_test_KNN_scaled = NNH.predict(X_test_scaled)\n",
    "\n",
    "#Confusion Matrix\n",
    "KNN_cm_test_scaled = pd.DataFrame(confusion_matrix(y_test,pred_test_KNN_scaled).T,index=['No', 'Yes'], columns=['No', 'Yes'])\n",
    "KNN_cm_test_scaled.index.name = \"Predicted\"\n",
    "KNN_cm_test_scaled.columns.name = \"True\"\n",
    "KNN_cm_test_scaled"
   ]
  },
  {
   "cell_type": "code",
   "execution_count": 75,
   "metadata": {},
   "outputs": [
    {
     "data": {
      "text/plain": [
       "0.97"
      ]
     },
     "execution_count": 75,
     "metadata": {},
     "output_type": "execute_result"
    }
   ],
   "source": [
    "#Calculate auc score\n",
    "KNN_auc_score_scaled = metrics.roc_auc_score(y_test, NNH.predict_proba(X_test_scaled)[:,1])\n",
    "round( float( KNN_auc_score_scaled ), 2 )"
   ]
  },
  {
   "cell_type": "code",
   "execution_count": 76,
   "metadata": {},
   "outputs": [
    {
     "name": "stdout",
     "output_type": "stream",
     "text": [
      "Total Accuracy :  0.936\n",
      "\n",
      "\n",
      "Metrics Classification Report for KNN for scaled data:\n",
      "               precision    recall  f1-score   support\n",
      "\n",
      "           0       0.94      1.00      0.97      1342\n",
      "           1       0.94      0.42      0.58       158\n",
      "\n",
      "    accuracy                           0.94      1500\n",
      "   macro avg       0.94      0.71      0.77      1500\n",
      "weighted avg       0.94      0.94      0.92      1500\n",
      "\n"
     ]
    }
   ],
   "source": [
    "# summarize the fit of the model\n",
    "KNN_accuracy_scaled = np.round( metrics.accuracy_score( y_test, pred_test_KNN_scaled ), 4 )\n",
    "print( 'Total Accuracy : ', KNN_accuracy_scaled)\n",
    "print('\\n')\n",
    "print('Metrics Classification Report for KNN for scaled data:\\n', metrics.classification_report(y_test, pred_test_KNN_scaled))"
   ]
  },
  {
   "cell_type": "markdown",
   "metadata": {},
   "source": [
    "# 6. Print the confusion matrix for all the above models"
   ]
  },
  {
   "cell_type": "markdown",
   "metadata": {},
   "source": [
    "# 6a. Confusion Matrix for Logistic Regression"
   ]
  },
  {
   "cell_type": "code",
   "execution_count": 77,
   "metadata": {},
   "outputs": [
    {
     "name": "stdout",
     "output_type": "stream",
     "text": [
      "Confusion Matrix for Logistic Regression before scaling:\n"
     ]
    },
    {
     "data": {
      "text/html": [
       "<div>\n",
       "<style scoped>\n",
       "    .dataframe tbody tr th:only-of-type {\n",
       "        vertical-align: middle;\n",
       "    }\n",
       "\n",
       "    .dataframe tbody tr th {\n",
       "        vertical-align: top;\n",
       "    }\n",
       "\n",
       "    .dataframe thead th {\n",
       "        text-align: right;\n",
       "    }\n",
       "</style>\n",
       "<table border=\"1\" class=\"dataframe\">\n",
       "  <thead>\n",
       "    <tr style=\"text-align: right;\">\n",
       "      <th>True</th>\n",
       "      <th>No</th>\n",
       "      <th>Yes</th>\n",
       "    </tr>\n",
       "    <tr>\n",
       "      <th>Predicted</th>\n",
       "      <th></th>\n",
       "      <th></th>\n",
       "    </tr>\n",
       "  </thead>\n",
       "  <tbody>\n",
       "    <tr>\n",
       "      <td>No</td>\n",
       "      <td>1342</td>\n",
       "      <td>158</td>\n",
       "    </tr>\n",
       "    <tr>\n",
       "      <td>Yes</td>\n",
       "      <td>0</td>\n",
       "      <td>0</td>\n",
       "    </tr>\n",
       "  </tbody>\n",
       "</table>\n",
       "</div>"
      ],
      "text/plain": [
       "True         No  Yes\n",
       "Predicted           \n",
       "No         1342  158\n",
       "Yes           0    0"
      ]
     },
     "execution_count": 77,
     "metadata": {},
     "output_type": "execute_result"
    }
   ],
   "source": [
    "print('Confusion Matrix for Logistic Regression before scaling:')\n",
    "logreg_cm_test"
   ]
  },
  {
   "cell_type": "code",
   "execution_count": 78,
   "metadata": {},
   "outputs": [
    {
     "data": {
      "image/png": "[encoded data removed]",
      "text/plain": [
       "<Figure size 288x288 with 2 Axes>"
      ]
     },
     "metadata": {
      "needs_background": "light"
     },
     "output_type": "display_data"
    }
   ],
   "source": [
    "plt.figure(figsize = (4,4))\n",
    "plt.title(\"Confusion Matrix for Logistic Regression before scaling: \\n\")\n",
    "ax=sns.heatmap(logreg_cm_test, annot=True)\n",
    "bottom, top = ax.get_ylim()\n",
    "ax.set_ylim(bottom + 0.5, top - 0.5)\n",
    "plt.show()"
   ]
  },
  {
   "cell_type": "code",
   "execution_count": 79,
   "metadata": {},
   "outputs": [
    {
     "name": "stdout",
     "output_type": "stream",
     "text": [
      "Confusion Matrix for Logistic Regression for Scaled Data:\n"
     ]
    },
    {
     "data": {
      "text/html": [
       "<div>\n",
       "<style scoped>\n",
       "    .dataframe tbody tr th:only-of-type {\n",
       "        vertical-align: middle;\n",
       "    }\n",
       "\n",
       "    .dataframe tbody tr th {\n",
       "        vertical-align: top;\n",
       "    }\n",
       "\n",
       "    .dataframe thead th {\n",
       "        text-align: right;\n",
       "    }\n",
       "</style>\n",
       "<table border=\"1\" class=\"dataframe\">\n",
       "  <thead>\n",
       "    <tr style=\"text-align: right;\">\n",
       "      <th>True</th>\n",
       "      <th>No</th>\n",
       "      <th>Yes</th>\n",
       "    </tr>\n",
       "    <tr>\n",
       "      <th>Predicted</th>\n",
       "      <th></th>\n",
       "      <th></th>\n",
       "    </tr>\n",
       "  </thead>\n",
       "  <tbody>\n",
       "    <tr>\n",
       "      <td>No</td>\n",
       "      <td>1330</td>\n",
       "      <td>70</td>\n",
       "    </tr>\n",
       "    <tr>\n",
       "      <td>Yes</td>\n",
       "      <td>12</td>\n",
       "      <td>88</td>\n",
       "    </tr>\n",
       "  </tbody>\n",
       "</table>\n",
       "</div>"
      ],
      "text/plain": [
       "True         No  Yes\n",
       "Predicted           \n",
       "No         1330   70\n",
       "Yes          12   88"
      ]
     },
     "execution_count": 79,
     "metadata": {},
     "output_type": "execute_result"
    }
   ],
   "source": [
    "print('Confusion Matrix for Logistic Regression for Scaled Data:')\n",
    "logreg_cm_test_scaled"
   ]
  },
  {
   "cell_type": "code",
   "execution_count": 80,
   "metadata": {},
   "outputs": [
    {
     "data": {
      "image/png": "[encoded data removed]",
      "text/plain": [
       "<Figure size 288x288 with 2 Axes>"
      ]
     },
     "metadata": {
      "needs_background": "light"
     },
     "output_type": "display_data"
    }
   ],
   "source": [
    "plt.figure(figsize = (4,4))\n",
    "plt.title(\"Confusion Matrix for Logistic Regression for Scaled Data:\")\n",
    "ax=sns.heatmap(logreg_cm_test_scaled, annot=True)\n",
    "bottom, top = ax.get_ylim()\n",
    "ax.set_ylim(bottom + 0.5, top - 0.5)\n",
    "plt.show()"
   ]
  },
  {
   "cell_type": "markdown",
   "metadata": {},
   "source": [
    "# 6b. Confusion Matrix for Naive Bayes"
   ]
  },
  {
   "cell_type": "code",
   "execution_count": 81,
   "metadata": {},
   "outputs": [
    {
     "name": "stdout",
     "output_type": "stream",
     "text": [
      "Confusion Matrix for Naive Bayes Classifier before scaling:\n"
     ]
    },
    {
     "data": {
      "text/html": [
       "<div>\n",
       "<style scoped>\n",
       "    .dataframe tbody tr th:only-of-type {\n",
       "        vertical-align: middle;\n",
       "    }\n",
       "\n",
       "    .dataframe tbody tr th {\n",
       "        vertical-align: top;\n",
       "    }\n",
       "\n",
       "    .dataframe thead th {\n",
       "        text-align: right;\n",
       "    }\n",
       "</style>\n",
       "<table border=\"1\" class=\"dataframe\">\n",
       "  <thead>\n",
       "    <tr style=\"text-align: right;\">\n",
       "      <th>True</th>\n",
       "      <th>No</th>\n",
       "      <th>Yes</th>\n",
       "    </tr>\n",
       "    <tr>\n",
       "      <th>Predicted</th>\n",
       "      <th></th>\n",
       "      <th></th>\n",
       "    </tr>\n",
       "  </thead>\n",
       "  <tbody>\n",
       "    <tr>\n",
       "      <td>No</td>\n",
       "      <td>1234</td>\n",
       "      <td>62</td>\n",
       "    </tr>\n",
       "    <tr>\n",
       "      <td>Yes</td>\n",
       "      <td>108</td>\n",
       "      <td>96</td>\n",
       "    </tr>\n",
       "  </tbody>\n",
       "</table>\n",
       "</div>"
      ],
      "text/plain": [
       "True         No  Yes\n",
       "Predicted           \n",
       "No         1234   62\n",
       "Yes         108   96"
      ]
     },
     "execution_count": 81,
     "metadata": {},
     "output_type": "execute_result"
    }
   ],
   "source": [
    "print(\"Confusion Matrix for Naive Bayes Classifier before scaling:\")\n",
    "NB_cm_test"
   ]
  },
  {
   "cell_type": "code",
   "execution_count": 82,
   "metadata": {},
   "outputs": [
    {
     "data": {
      "image/png": "[encoded data removed]",
      "text/plain": [
       "<Figure size 288x288 with 2 Axes>"
      ]
     },
     "metadata": {
      "needs_background": "light"
     },
     "output_type": "display_data"
    }
   ],
   "source": [
    "plt.figure(figsize = (4,4))\n",
    "plt.title(\"Confusion Matrix for Naive Bayes Classifier before scaling\")\n",
    "ax=sns.heatmap(NB_cm_test, annot=True)\n",
    "bottom, top = ax.get_ylim()\n",
    "ax.set_ylim(bottom + 0.5, top - 0.5)\n",
    "plt.show()"
   ]
  },
  {
   "cell_type": "code",
   "execution_count": 83,
   "metadata": {},
   "outputs": [
    {
     "name": "stdout",
     "output_type": "stream",
     "text": [
      "Confusion Matrix for Naive Bayes Classifier for scaled Data:\n"
     ]
    },
    {
     "data": {
      "text/html": [
       "<div>\n",
       "<style scoped>\n",
       "    .dataframe tbody tr th:only-of-type {\n",
       "        vertical-align: middle;\n",
       "    }\n",
       "\n",
       "    .dataframe tbody tr th {\n",
       "        vertical-align: top;\n",
       "    }\n",
       "\n",
       "    .dataframe thead th {\n",
       "        text-align: right;\n",
       "    }\n",
       "</style>\n",
       "<table border=\"1\" class=\"dataframe\">\n",
       "  <thead>\n",
       "    <tr style=\"text-align: right;\">\n",
       "      <th>True</th>\n",
       "      <th>No</th>\n",
       "      <th>Yes</th>\n",
       "    </tr>\n",
       "    <tr>\n",
       "      <th>Predicted</th>\n",
       "      <th></th>\n",
       "      <th></th>\n",
       "    </tr>\n",
       "  </thead>\n",
       "  <tbody>\n",
       "    <tr>\n",
       "      <td>No</td>\n",
       "      <td>1238</td>\n",
       "      <td>64</td>\n",
       "    </tr>\n",
       "    <tr>\n",
       "      <td>Yes</td>\n",
       "      <td>104</td>\n",
       "      <td>94</td>\n",
       "    </tr>\n",
       "  </tbody>\n",
       "</table>\n",
       "</div>"
      ],
      "text/plain": [
       "True         No  Yes\n",
       "Predicted           \n",
       "No         1238   64\n",
       "Yes         104   94"
      ]
     },
     "execution_count": 83,
     "metadata": {},
     "output_type": "execute_result"
    }
   ],
   "source": [
    "print(\"Confusion Matrix for Naive Bayes Classifier for scaled Data:\")\n",
    "NB_cm_test_scaled"
   ]
  },
  {
   "cell_type": "code",
   "execution_count": 84,
   "metadata": {},
   "outputs": [
    {
     "data": {
      "image/png": "[encoded data removed]",
      "text/plain": [
       "<Figure size 288x288 with 2 Axes>"
      ]
     },
     "metadata": {
      "needs_background": "light"
     },
     "output_type": "display_data"
    }
   ],
   "source": [
    "plt.figure(figsize = (4,4))\n",
    "plt.title(\"Confusion Matrix for Naive Bayes Classifier for Scaled Data\")\n",
    "ax=sns.heatmap(NB_cm_test_scaled, annot=True)\n",
    "bottom, top = ax.get_ylim()\n",
    "ax.set_ylim(bottom + 0.5, top - 0.5)\n",
    "plt.show()"
   ]
  },
  {
   "cell_type": "markdown",
   "metadata": {},
   "source": [
    "# 6c. Confusion Matrix for KNN"
   ]
  },
  {
   "cell_type": "code",
   "execution_count": 85,
   "metadata": {},
   "outputs": [
    {
     "name": "stdout",
     "output_type": "stream",
     "text": [
      "Confusion Matrix for K-Nearest Neighbours before Scaling:\n"
     ]
    },
    {
     "data": {
      "text/html": [
       "<div>\n",
       "<style scoped>\n",
       "    .dataframe tbody tr th:only-of-type {\n",
       "        vertical-align: middle;\n",
       "    }\n",
       "\n",
       "    .dataframe tbody tr th {\n",
       "        vertical-align: top;\n",
       "    }\n",
       "\n",
       "    .dataframe thead th {\n",
       "        text-align: right;\n",
       "    }\n",
       "</style>\n",
       "<table border=\"1\" class=\"dataframe\">\n",
       "  <thead>\n",
       "    <tr style=\"text-align: right;\">\n",
       "      <th>True</th>\n",
       "      <th>No</th>\n",
       "      <th>Yes</th>\n",
       "    </tr>\n",
       "    <tr>\n",
       "      <th>Predicted</th>\n",
       "      <th></th>\n",
       "      <th></th>\n",
       "    </tr>\n",
       "  </thead>\n",
       "  <tbody>\n",
       "    <tr>\n",
       "      <td>No</td>\n",
       "      <td>1338</td>\n",
       "      <td>150</td>\n",
       "    </tr>\n",
       "    <tr>\n",
       "      <td>Yes</td>\n",
       "      <td>4</td>\n",
       "      <td>8</td>\n",
       "    </tr>\n",
       "  </tbody>\n",
       "</table>\n",
       "</div>"
      ],
      "text/plain": [
       "True         No  Yes\n",
       "Predicted           \n",
       "No         1338  150\n",
       "Yes           4    8"
      ]
     },
     "execution_count": 85,
     "metadata": {},
     "output_type": "execute_result"
    }
   ],
   "source": [
    "print(\"Confusion Matrix for K-Nearest Neighbours before Scaling:\")\n",
    "KNN_cm_test"
   ]
  },
  {
   "cell_type": "code",
   "execution_count": 86,
   "metadata": {},
   "outputs": [
    {
     "data": {
      "image/png": "[encoded data removed]",
      "text/plain": [
       "<Figure size 288x288 with 2 Axes>"
      ]
     },
     "metadata": {
      "needs_background": "light"
     },
     "output_type": "display_data"
    }
   ],
   "source": [
    "plt.figure(figsize = (4,4))\n",
    "plt.title(\"Confusion Matrix for K-Nearest Neighbours before Scaling\")\n",
    "ax=sns.heatmap(KNN_cm_test, annot=True)\n",
    "bottom, top = ax.get_ylim()\n",
    "ax.set_ylim(bottom + 0.5, top - 0.5)\n",
    "plt.show()"
   ]
  },
  {
   "cell_type": "code",
   "execution_count": 87,
   "metadata": {},
   "outputs": [
    {
     "name": "stdout",
     "output_type": "stream",
     "text": [
      "Confusion Matrix for K-Nearest Neighbours for Scaled data:\n"
     ]
    },
    {
     "data": {
      "text/html": [
       "<div>\n",
       "<style scoped>\n",
       "    .dataframe tbody tr th:only-of-type {\n",
       "        vertical-align: middle;\n",
       "    }\n",
       "\n",
       "    .dataframe tbody tr th {\n",
       "        vertical-align: top;\n",
       "    }\n",
       "\n",
       "    .dataframe thead th {\n",
       "        text-align: right;\n",
       "    }\n",
       "</style>\n",
       "<table border=\"1\" class=\"dataframe\">\n",
       "  <thead>\n",
       "    <tr style=\"text-align: right;\">\n",
       "      <th>True</th>\n",
       "      <th>No</th>\n",
       "      <th>Yes</th>\n",
       "    </tr>\n",
       "    <tr>\n",
       "      <th>Predicted</th>\n",
       "      <th></th>\n",
       "      <th></th>\n",
       "    </tr>\n",
       "  </thead>\n",
       "  <tbody>\n",
       "    <tr>\n",
       "      <td>No</td>\n",
       "      <td>1338</td>\n",
       "      <td>92</td>\n",
       "    </tr>\n",
       "    <tr>\n",
       "      <td>Yes</td>\n",
       "      <td>4</td>\n",
       "      <td>66</td>\n",
       "    </tr>\n",
       "  </tbody>\n",
       "</table>\n",
       "</div>"
      ],
      "text/plain": [
       "True         No  Yes\n",
       "Predicted           \n",
       "No         1338   92\n",
       "Yes           4   66"
      ]
     },
     "execution_count": 87,
     "metadata": {},
     "output_type": "execute_result"
    }
   ],
   "source": [
    "print(\"Confusion Matrix for K-Nearest Neighbours for Scaled data:\")\n",
    "KNN_cm_test_scaled"
   ]
  },
  {
   "cell_type": "code",
   "execution_count": 88,
   "metadata": {},
   "outputs": [
    {
     "data": {
      "image/png": "[encoded data removed]",
      "text/plain": [
       "<Figure size 288x288 with 2 Axes>"
      ]
     },
     "metadata": {
      "needs_background": "light"
     },
     "output_type": "display_data"
    }
   ],
   "source": [
    "plt.figure(figsize = (4,4))\n",
    "plt.title(\"Confusion Matrix for K-Nearest Neighbours for Scaled Data\")\n",
    "ax=sns.heatmap(KNN_cm_test_scaled, annot=True)\n",
    "bottom, top = ax.get_ylim()\n",
    "ax.set_ylim(bottom + 0.5, top - 0.5)\n",
    "plt.show()"
   ]
  },
  {
   "cell_type": "markdown",
   "metadata": {},
   "source": [
    "# 7. Give your reasoning on which is the best model in this case and why it performs better?"
   ]
  },
  {
   "cell_type": "code",
   "execution_count": 89,
   "metadata": {},
   "outputs": [
    {
     "name": "stdout",
     "output_type": "stream",
     "text": [
      "        Model  Training Set Accuracy  Testing Set Accuracy  Model Accuracy\n",
      "0          LR               0.908000              0.894667          0.8947\n",
      "1          NB               0.887143              0.886667          0.8867\n",
      "2         KNN               1.000000              0.897333          0.8973\n",
      "3   LR Scaled               0.955429              0.945333          0.9453\n",
      "4   NB Scaled               0.884286              0.888000          0.8880\n",
      "5  KNN Scaled               1.000000              0.936000          0.9360\n"
     ]
    }
   ],
   "source": [
    "#Compare the Train, Test Set and Model accuracy of all the models\n",
    "acc_dict = {'Model':['LR','NB','KNN','LR Scaled', 'NB Scaled', 'KNN Scaled'], \n",
    "            'Training Set Accuracy': [logreg_train_score, NB_train_score, KNN_train_score, \n",
    "                         logreg_train_score_scaled, NB_train_score_scaled, KNN_train_score_scaled],\n",
    "            'Testing Set Accuracy': [logreg_test_score, NB_test_score, KNN_test_score, \n",
    "                         logreg_test_score_scaled, NB_test_score_scaled, KNN_test_score_scaled],\n",
    "            'Model Accuracy': [logreg_accuracy, NB_accuracy, KNN_accuracy, \n",
    "                         logreg_accuracy_scaled, NB_accuracy_scaled, KNN_accuracy_scaled]\n",
    "           }\n",
    "acc = pd.DataFrame(acc_dict)\n",
    "print(acc)"
   ]
  },
  {
   "cell_type": "code",
   "execution_count": 90,
   "metadata": {},
   "outputs": [
    {
     "data": {
      "image/png": "[encoded data removed]",
      "text/plain": [
       "<Figure size 576x576 with 1 Axes>"
      ]
     },
     "metadata": {
      "needs_background": "light"
     },
     "output_type": "display_data"
    }
   ],
   "source": [
    "plt.figure(figsize = (8,8))\n",
    "plt.bar(acc['Model'],acc['Model Accuracy'],align='center',alpha=0.5)\n",
    "plt.title(\"Model Accuracy Comparison\")\n",
    "plt.xlabel(\"Classification Models\")\n",
    "plt.ylabel(\"Model Accuracy Score\")\n",
    "plt.show()"
   ]
  },
  {
   "cell_type": "markdown",
   "metadata": {},
   "source": [
    "\n",
    "Observation: From the train, test set accuracy score, we could see that the models are just fitted as expected, they are not either over fitted or under fitted. The effect of data scaling is more pronounced in Logistic Regression and KNN while Naive Bayes is unaffected by scaliing.\n",
    "\n",
    "Based on the accuracy score and model selection, we could see that logistic regression model (89.93%) predicts the possibility of a customer buying a personal loan better than Naive Bayes and KNN.\n",
    "\n",
    "Similarly for the scaled data Logistic Regrssion Model has a accuracy of 94.47% for the customer opting for personal loan better than the Naive Bayes and KNN.\n"
   ]
  }
 ],
 "metadata": {
  "kernelspec": {
   "display_name": "Python 3",
   "language": "python",
   "name": "python3"
  },
  "language_info": {
   "codemirror_mode": {
    "name": "ipython",
    "version": 3
   },
   "file_extension": ".py",
   "mimetype": "text/x-python",
   "name": "python",
   "nbconvert_exporter": "python",
   "pygments_lexer": "ipython3",
   "version": "3.7.4"
  }
 },
 "nbformat": 4,
 "nbformat_minor": 2
}
